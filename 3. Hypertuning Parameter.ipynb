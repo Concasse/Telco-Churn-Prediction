{
 "cells": [
  {
   "cell_type": "markdown",
   "metadata": {},
   "source": [
    "##  Hypertuning Parameter for Best Model"
   ]
  },
  {
   "cell_type": "markdown",
   "metadata": {},
   "source": [
    "    Model Terpilih : Logistic Regression\n",
    "    Data yang digunakan : Telco Churn Customer version 3 treatment Encoding \n",
    "                          (Kombinasi Label Encode dan One Hot Encoding (lebih dari 3 unique value))\n",
    "    Treatment yang digunakan : Scaling Data dan Undersampling"
   ]
  },
  {
   "cell_type": "code",
   "execution_count": 1,
   "metadata": {
    "ExecuteTime": {
     "end_time": "2021-04-29T14:56:24.087157Z",
     "start_time": "2021-04-29T14:56:22.559507Z"
    }
   },
   "outputs": [],
   "source": [
    "#Import Modules\n",
    "import pandas as pd\n",
    "import numpy as np\n",
    "import matplotlib.pyplot as plt\n",
    "import seaborn as sns\n",
    "import warnings\n",
    "warnings.filterwarnings('ignore')\n",
    "plt.style.use('seaborn')"
   ]
  },
  {
   "cell_type": "code",
   "execution_count": 2,
   "metadata": {
    "ExecuteTime": {
     "end_time": "2021-04-29T14:56:25.797237Z",
     "start_time": "2021-04-29T14:56:25.087387Z"
    }
   },
   "outputs": [],
   "source": [
    "# Import library for Metrics Score\n",
    "from sklearn.metrics import plot_confusion_matrix\n",
    "from sklearn.metrics import classification_report\n",
    "from sklearn.model_selection import cross_val_score"
   ]
  },
  {
   "cell_type": "code",
   "execution_count": 3,
   "metadata": {
    "ExecuteTime": {
     "end_time": "2021-04-29T14:56:27.059846Z",
     "start_time": "2021-04-29T14:56:27.017295Z"
    }
   },
   "outputs": [],
   "source": [
    "# Import Dataset\n",
    "data = pd.read_csv('data_model3.csv')"
   ]
  },
  {
   "cell_type": "code",
   "execution_count": 4,
   "metadata": {
    "ExecuteTime": {
     "end_time": "2021-04-29T14:56:28.813318Z",
     "start_time": "2021-04-29T14:56:28.804297Z"
    }
   },
   "outputs": [],
   "source": [
    "X = data.drop('Churn', axis=1)\n",
    "y = data['Churn']"
   ]
  },
  {
   "cell_type": "code",
   "execution_count": 5,
   "metadata": {
    "ExecuteTime": {
     "end_time": "2021-04-29T14:56:29.530968Z",
     "start_time": "2021-04-29T14:56:29.523969Z"
    }
   },
   "outputs": [],
   "source": [
    "# Import Train Split Test\n",
    "from sklearn.model_selection import train_test_split"
   ]
  },
  {
   "cell_type": "code",
   "execution_count": 6,
   "metadata": {
    "ExecuteTime": {
     "end_time": "2021-04-29T14:56:30.044257Z",
     "start_time": "2021-04-29T14:56:30.036051Z"
    }
   },
   "outputs": [],
   "source": [
    "# Split Data Train and Data Test\n",
    "xtrain, xtest, ytrain, ytest = train_test_split(X, y, test_size=0.2, random_state=41)"
   ]
  },
  {
   "cell_type": "code",
   "execution_count": 7,
   "metadata": {
    "ExecuteTime": {
     "end_time": "2021-04-29T14:56:30.747723Z",
     "start_time": "2021-04-29T14:56:30.680934Z"
    }
   },
   "outputs": [],
   "source": [
    "#Import Model LogisticRegression\n",
    "from sklearn.linear_model import LogisticRegression"
   ]
  },
  {
   "cell_type": "markdown",
   "metadata": {},
   "source": [
    "### Scaling Data and Undersampling Scaling Data"
   ]
  },
  {
   "cell_type": "code",
   "execution_count": 8,
   "metadata": {
    "ExecuteTime": {
     "end_time": "2021-04-29T14:56:32.630956Z",
     "start_time": "2021-04-29T14:56:32.628051Z"
    }
   },
   "outputs": [],
   "source": [
    "# Import scaling module\n",
    "from sklearn.preprocessing import MinMaxScaler"
   ]
  },
  {
   "cell_type": "code",
   "execution_count": 9,
   "metadata": {
    "ExecuteTime": {
     "end_time": "2021-04-29T14:56:32.913064Z",
     "start_time": "2021-04-29T14:56:32.897730Z"
    }
   },
   "outputs": [],
   "source": [
    "scaler = MinMaxScaler()"
   ]
  },
  {
   "cell_type": "code",
   "execution_count": 10,
   "metadata": {
    "ExecuteTime": {
     "end_time": "2021-04-29T14:56:33.225468Z",
     "start_time": "2021-04-29T14:56:33.194003Z"
    }
   },
   "outputs": [],
   "source": [
    "# Fit scaling on Training Data\n",
    "feature = ['tenure', 'MonthlyCharges', 'TotalCharges']\n",
    "\n",
    "for i in feature:\n",
    "    scal = scaler.fit(np.array(xtrain[i]).reshape(-1,1))\n",
    "    \n",
    "    # Transform data xtrain and xtest based on fit data train\n",
    "    xtrain[i] = scal.transform(np.array(xtrain[i]).reshape(-1,1))\n",
    "\n",
    "    xtest[i] = scal.transform(np.array(xtest[i]).reshape(-1,1))"
   ]
  },
  {
   "cell_type": "code",
   "execution_count": 11,
   "metadata": {
    "ExecuteTime": {
     "end_time": "2021-04-29T14:56:35.566034Z",
     "start_time": "2021-04-29T14:56:35.384072Z"
    }
   },
   "outputs": [],
   "source": [
    "# Undersampling Data Scaling\n",
    "from imblearn.under_sampling import RandomUnderSampler\n",
    "\n",
    "US = RandomUnderSampler(random_state = 41)\n",
    "xtrain, ytrain = US.fit_resample(xtrain, ytrain)"
   ]
  },
  {
   "cell_type": "markdown",
   "metadata": {},
   "source": [
    "### RandomizeSearchCV"
   ]
  },
  {
   "cell_type": "code",
   "execution_count": 21,
   "metadata": {
    "ExecuteTime": {
     "end_time": "2021-04-26T14:27:19.047840Z",
     "start_time": "2021-04-26T14:27:19.041856Z"
    }
   },
   "outputs": [],
   "source": [
    "# Import Random CV\n",
    "from sklearn.model_selection import RandomizedSearchCV"
   ]
  },
  {
   "cell_type": "code",
   "execution_count": 24,
   "metadata": {
    "ExecuteTime": {
     "end_time": "2021-04-26T14:31:14.389652Z",
     "start_time": "2021-04-26T14:31:14.377173Z"
    }
   },
   "outputs": [],
   "source": [
    "model = LogisticRegression()\n",
    "param = dict()\n",
    "param['penalty'] = ['l1', 'l2', 'elasticnet']\n",
    "param['dual'] = [True, False]\n",
    "param['tol'] = [0.0001, 0.0002, 0.0003, 0.0004]\n",
    "param['C'] = [0.1, 1.0, 2.0, 3.0, 4.0, 5.0]\n",
    "param['fit_intercept'] = [True, False]\n",
    "param['intercept_scaling'] = [1.0, 2.0, 3.0, 4.0, 5,0]\n",
    "param['class_weight'] = [None, 'balanced']\n",
    "param['random_state'] = [41, 42, 43]\n",
    "param['solver'] = ['newton-cg', 'lbfgs', 'liblinear', 'sag', 'saga']\n",
    "param['max_iter'] = [100, 200, 300, 400, 500]\n",
    "param['multi_class'] = ['auto', 'ovr', 'multinomial']\n",
    "param['verbose'] = [0, 1, 2, 3]\n",
    "param['warm_start'] = [True, False]\n",
    "param['n_jobs'] = [1, 2, 3, 4, 6, 7, 8]\n",
    "param['l1_ratio'] = [0.1, 0.2, 0.3, 0.4, 0.5, 0.6, 0.7, 0.8, 0.9, 1.0]"
   ]
  },
  {
   "cell_type": "code",
   "execution_count": 25,
   "metadata": {
    "ExecuteTime": {
     "end_time": "2021-04-26T14:31:28.772288Z",
     "start_time": "2021-04-26T14:31:14.833158Z"
    },
    "scrolled": false
   },
   "outputs": [
    {
     "name": "stderr",
     "output_type": "stream",
     "text": [
      "[Parallel(n_jobs=7)]: Using backend LokyBackend with 7 concurrent workers.\n"
     ]
    },
    {
     "name": "stdout",
     "output_type": "stream",
     "text": [
      "Best Score: 0.7671370967741935\n",
      "Best Hyperparameters: {'warm_start': False, 'verbose': 2, 'tol': 0.0001, 'solver': 'newton-cg', 'random_state': 41, 'penalty': 'l2', 'n_jobs': 7, 'multi_class': 'multinomial', 'max_iter': 100, 'l1_ratio': 0.4, 'intercept_scaling': 3.0, 'fit_intercept': True, 'dual': False, 'class_weight': None, 'C': 5.0}\n",
      "Wall time: 13.9 s\n"
     ]
    },
    {
     "name": "stderr",
     "output_type": "stream",
     "text": [
      "[Parallel(n_jobs=7)]: Done   1 out of   1 | elapsed:    1.2s finished\n"
     ]
    }
   ],
   "source": [
    "%%time\n",
    "# RandomizedSearchCV\n",
    "\n",
    "param_search = RandomizedSearchCV(model, param, n_iter=500, n_jobs=2, cv=2, random_state=41)\n",
    "\n",
    "result = param_search.fit(xtrain, ytrain)\n",
    "\n",
    "print('Best Score: %s' % result.best_score_)\n",
    "print('Best Hyperparameters: %s' % result.best_params_)"
   ]
  },
  {
   "cell_type": "markdown",
   "metadata": {},
   "source": [
    "Parameter from **RandomizeCV**\n",
    "\n",
    "warm_start= False, verbose= 2, tol= 0.0001, solver= newton-cg, random_state= 41, penalty= l2, n_jobs= 7, multi_class= multinomial, max_iter= 100, l1_ratio= 0.4, intercept_scaling= 3.0, fit_intercept= True, dual= False, class_weight= None, C= 5.0"
   ]
  },
  {
   "cell_type": "markdown",
   "metadata": {
    "ExecuteTime": {
     "end_time": "2021-04-24T13:40:40.812281Z",
     "start_time": "2021-04-24T13:40:40.794315Z"
    }
   },
   "source": [
    "### GridSearchCV"
   ]
  },
  {
   "cell_type": "code",
   "execution_count": 26,
   "metadata": {
    "ExecuteTime": {
     "end_time": "2021-04-26T14:33:57.425017Z",
     "start_time": "2021-04-26T14:33:57.413050Z"
    }
   },
   "outputs": [],
   "source": [
    "from sklearn.model_selection import GridSearchCV"
   ]
  },
  {
   "cell_type": "code",
   "execution_count": null,
   "metadata": {},
   "outputs": [],
   "source": [
    "# Parameter to Selection\n",
    "param['penalty'] = ['l1', 'l2', 'elasticnet']\n",
    "param['dual'] = [True, False]\n",
    "param['tol'] = [0.0001, 0.0002, 0.0003, 0.0004]\n",
    "param['C'] = [0.1, 1.0, 2.0, 3.0, 4.0, 5.0]\n",
    "param['fit_intercept'] = [True, False]\n",
    "param['intercept_scaling'] = [1.0, 2.0, 3.0, 4.0, 5.0]\n",
    "param['class_weight'] = [None, 'balanced']\n",
    "param['random_state'] = [41, 42, 43]\n",
    "param['solver'] = ['newton-cg', 'lbfgs', 'liblinear', 'sag', 'saga']\n",
    "param['max_iter'] = [100, 200, 300, 400, 500]\n",
    "param['multi_class'] = ['auto', 'ovr', 'multinomial']\n",
    "param['verbose'] = [0, 1, 2, 3]\n",
    "param['warm_start'] = [True, False]\n",
    "param['n_jobs'] = [1, 2, 3, 4, 6, 7, 8]\n",
    "param['l1_ratio'] = [None, 0.1, 0.2, 0.3, 0.4, 0.5, 0.6, 0.7, 0.8, 0.9, 1.0]"
   ]
  },
  {
   "cell_type": "code",
   "execution_count": 106,
   "metadata": {
    "ExecuteTime": {
     "end_time": "2021-04-26T15:02:20.444154Z",
     "start_time": "2021-04-26T15:02:20.433676Z"
    }
   },
   "outputs": [],
   "source": [
    "model = LogisticRegression()\n",
    "param = dict()\n",
    "param['penalty'] = ['l2']\n",
    "param['dual'] = [False]\n",
    "param['tol'] = [0.0001]\n",
    "param['C'] = [4.0]\n",
    "param['fit_intercept'] = [True]\n",
    "param['intercept_scaling'] = [1.0]\n",
    "param['class_weight'] = [None]\n",
    "param['random_state'] = [41]\n",
    "param['solver'] = ['lbfgs']\n",
    "param['max_iter'] = [100]\n",
    "param['multi_class'] = ['auto']\n",
    "param['verbose'] = [0]\n",
    "param['warm_start'] = [True, False]\n",
    "param['n_jobs'] = [1]\n",
    "param['l1_ratio'] = [None, 0.1, 0.2, 0.3, 0.4, 0.5, 0.6, 0.7, 0.8, 0.9, 1.0]"
   ]
  },
  {
   "cell_type": "code",
   "execution_count": 107,
   "metadata": {
    "ExecuteTime": {
     "end_time": "2021-04-26T15:02:21.025656Z",
     "start_time": "2021-04-26T15:02:21.018479Z"
    }
   },
   "outputs": [
    {
     "data": {
      "text/plain": [
       "{'penalty': ['l2'],\n",
       " 'dual': [False],\n",
       " 'tol': [0.0001],\n",
       " 'C': [4.0],\n",
       " 'fit_intercept': [True],\n",
       " 'intercept_scaling': [1.0],\n",
       " 'class_weight': [None],\n",
       " 'random_state': [41],\n",
       " 'solver': ['lbfgs'],\n",
       " 'max_iter': [100],\n",
       " 'multi_class': ['auto'],\n",
       " 'verbose': [0],\n",
       " 'warm_start': [True, False],\n",
       " 'n_jobs': [1],\n",
       " 'l1_ratio': [None, 0.1, 0.2, 0.3, 0.4, 0.5, 0.6, 0.7, 0.8, 0.9, 1.0]}"
      ]
     },
     "execution_count": 107,
     "metadata": {},
     "output_type": "execute_result"
    }
   ],
   "source": [
    "# Parameters After Hypertuning with GridSearchCV\n",
    "param"
   ]
  },
  {
   "cell_type": "code",
   "execution_count": 108,
   "metadata": {
    "ExecuteTime": {
     "end_time": "2021-04-26T15:02:30.759767Z",
     "start_time": "2021-04-26T15:02:23.281685Z"
    },
    "scrolled": true
   },
   "outputs": [
    {
     "name": "stdout",
     "output_type": "stream",
     "text": [
      "Wall time: 7.45 s\n"
     ]
    },
    {
     "data": {
      "text/plain": [
       "{'mean_fit_time': array([0.03141782, 0.03151596, 0.03171535, 0.03360987, 0.03032022,\n",
       "        0.03051844, 0.03271267, 0.02971942, 0.03012187, 0.04019272,\n",
       "        0.03291349, 0.03081863, 0.03002257, 0.03091805, 0.03191478,\n",
       "        0.03081837, 0.03031895, 0.03201473, 0.03051865, 0.03091738,\n",
       "        0.03001966, 0.03091733]),\n",
       " 'std_fit_time': array([0.00404921, 0.00309628, 0.00226563, 0.00427882, 0.00264543,\n",
       "        0.00184947, 0.00473428, 0.00183011, 0.00177276, 0.00493394,\n",
       "        0.00327764, 0.00338308, 0.00180965, 0.00330761, 0.00434723,\n",
       "        0.002729  , 0.00155777, 0.00329117, 0.00127728, 0.00227427,\n",
       "        0.00169554, 0.00282096]),\n",
       " 'mean_score_time': array([0.00189483, 0.00139623, 0.00149598, 0.00179527, 0.00189476,\n",
       "        0.00179517, 0.00179567, 0.00139632, 0.00179553, 0.00199416,\n",
       "        0.00199325, 0.00179486, 0.00139637, 0.00179515, 0.00179513,\n",
       "        0.00169477, 0.00179522, 0.00179491, 0.00159559, 0.00169539,\n",
       "        0.00169542, 0.00129671]),\n",
       " 'std_score_time': array([0.00069804, 0.00048877, 0.00049887, 0.0003991 , 0.00029915,\n",
       "        0.00039899, 0.00074649, 0.0004886 , 0.00039911, 0.00063098,\n",
       "        0.00044623, 0.00039896, 0.00048842, 0.0003991 , 0.0005983 ,\n",
       "        0.00063903, 0.0003989 , 0.00074612, 0.00048855, 0.00045701,\n",
       "        0.00045702, 0.00045704]),\n",
       " 'param_C': masked_array(data=[4.0, 4.0, 4.0, 4.0, 4.0, 4.0, 4.0, 4.0, 4.0, 4.0, 4.0,\n",
       "                    4.0, 4.0, 4.0, 4.0, 4.0, 4.0, 4.0, 4.0, 4.0, 4.0, 4.0],\n",
       "              mask=[False, False, False, False, False, False, False, False,\n",
       "                    False, False, False, False, False, False, False, False,\n",
       "                    False, False, False, False, False, False],\n",
       "        fill_value='?',\n",
       "             dtype=object),\n",
       " 'param_class_weight': masked_array(data=[None, None, None, None, None, None, None, None, None,\n",
       "                    None, None, None, None, None, None, None, None, None,\n",
       "                    None, None, None, None],\n",
       "              mask=[False, False, False, False, False, False, False, False,\n",
       "                    False, False, False, False, False, False, False, False,\n",
       "                    False, False, False, False, False, False],\n",
       "        fill_value='?',\n",
       "             dtype=object),\n",
       " 'param_dual': masked_array(data=[False, False, False, False, False, False, False, False,\n",
       "                    False, False, False, False, False, False, False, False,\n",
       "                    False, False, False, False, False, False],\n",
       "              mask=[False, False, False, False, False, False, False, False,\n",
       "                    False, False, False, False, False, False, False, False,\n",
       "                    False, False, False, False, False, False],\n",
       "        fill_value='?',\n",
       "             dtype=object),\n",
       " 'param_fit_intercept': masked_array(data=[True, True, True, True, True, True, True, True, True,\n",
       "                    True, True, True, True, True, True, True, True, True,\n",
       "                    True, True, True, True],\n",
       "              mask=[False, False, False, False, False, False, False, False,\n",
       "                    False, False, False, False, False, False, False, False,\n",
       "                    False, False, False, False, False, False],\n",
       "        fill_value='?',\n",
       "             dtype=object),\n",
       " 'param_intercept_scaling': masked_array(data=[1.0, 1.0, 1.0, 1.0, 1.0, 1.0, 1.0, 1.0, 1.0, 1.0, 1.0,\n",
       "                    1.0, 1.0, 1.0, 1.0, 1.0, 1.0, 1.0, 1.0, 1.0, 1.0, 1.0],\n",
       "              mask=[False, False, False, False, False, False, False, False,\n",
       "                    False, False, False, False, False, False, False, False,\n",
       "                    False, False, False, False, False, False],\n",
       "        fill_value='?',\n",
       "             dtype=object),\n",
       " 'param_l1_ratio': masked_array(data=[None, None, 0.1, 0.1, 0.2, 0.2, 0.3, 0.3, 0.4, 0.4,\n",
       "                    0.5, 0.5, 0.6, 0.6, 0.7, 0.7, 0.8, 0.8, 0.9, 0.9, 1.0,\n",
       "                    1.0],\n",
       "              mask=[False, False, False, False, False, False, False, False,\n",
       "                    False, False, False, False, False, False, False, False,\n",
       "                    False, False, False, False, False, False],\n",
       "        fill_value='?',\n",
       "             dtype=object),\n",
       " 'param_max_iter': masked_array(data=[100, 100, 100, 100, 100, 100, 100, 100, 100, 100, 100,\n",
       "                    100, 100, 100, 100, 100, 100, 100, 100, 100, 100, 100],\n",
       "              mask=[False, False, False, False, False, False, False, False,\n",
       "                    False, False, False, False, False, False, False, False,\n",
       "                    False, False, False, False, False, False],\n",
       "        fill_value='?',\n",
       "             dtype=object),\n",
       " 'param_multi_class': masked_array(data=['auto', 'auto', 'auto', 'auto', 'auto', 'auto', 'auto',\n",
       "                    'auto', 'auto', 'auto', 'auto', 'auto', 'auto', 'auto',\n",
       "                    'auto', 'auto', 'auto', 'auto', 'auto', 'auto', 'auto',\n",
       "                    'auto'],\n",
       "              mask=[False, False, False, False, False, False, False, False,\n",
       "                    False, False, False, False, False, False, False, False,\n",
       "                    False, False, False, False, False, False],\n",
       "        fill_value='?',\n",
       "             dtype=object),\n",
       " 'param_n_jobs': masked_array(data=[1, 1, 1, 1, 1, 1, 1, 1, 1, 1, 1, 1, 1, 1, 1, 1, 1, 1,\n",
       "                    1, 1, 1, 1],\n",
       "              mask=[False, False, False, False, False, False, False, False,\n",
       "                    False, False, False, False, False, False, False, False,\n",
       "                    False, False, False, False, False, False],\n",
       "        fill_value='?',\n",
       "             dtype=object),\n",
       " 'param_penalty': masked_array(data=['l2', 'l2', 'l2', 'l2', 'l2', 'l2', 'l2', 'l2', 'l2',\n",
       "                    'l2', 'l2', 'l2', 'l2', 'l2', 'l2', 'l2', 'l2', 'l2',\n",
       "                    'l2', 'l2', 'l2', 'l2'],\n",
       "              mask=[False, False, False, False, False, False, False, False,\n",
       "                    False, False, False, False, False, False, False, False,\n",
       "                    False, False, False, False, False, False],\n",
       "        fill_value='?',\n",
       "             dtype=object),\n",
       " 'param_random_state': masked_array(data=[41, 41, 41, 41, 41, 41, 41, 41, 41, 41, 41, 41, 41, 41,\n",
       "                    41, 41, 41, 41, 41, 41, 41, 41],\n",
       "              mask=[False, False, False, False, False, False, False, False,\n",
       "                    False, False, False, False, False, False, False, False,\n",
       "                    False, False, False, False, False, False],\n",
       "        fill_value='?',\n",
       "             dtype=object),\n",
       " 'param_solver': masked_array(data=['lbfgs', 'lbfgs', 'lbfgs', 'lbfgs', 'lbfgs', 'lbfgs',\n",
       "                    'lbfgs', 'lbfgs', 'lbfgs', 'lbfgs', 'lbfgs', 'lbfgs',\n",
       "                    'lbfgs', 'lbfgs', 'lbfgs', 'lbfgs', 'lbfgs', 'lbfgs',\n",
       "                    'lbfgs', 'lbfgs', 'lbfgs', 'lbfgs'],\n",
       "              mask=[False, False, False, False, False, False, False, False,\n",
       "                    False, False, False, False, False, False, False, False,\n",
       "                    False, False, False, False, False, False],\n",
       "        fill_value='?',\n",
       "             dtype=object),\n",
       " 'param_tol': masked_array(data=[0.0001, 0.0001, 0.0001, 0.0001, 0.0001, 0.0001, 0.0001,\n",
       "                    0.0001, 0.0001, 0.0001, 0.0001, 0.0001, 0.0001, 0.0001,\n",
       "                    0.0001, 0.0001, 0.0001, 0.0001, 0.0001, 0.0001, 0.0001,\n",
       "                    0.0001],\n",
       "              mask=[False, False, False, False, False, False, False, False,\n",
       "                    False, False, False, False, False, False, False, False,\n",
       "                    False, False, False, False, False, False],\n",
       "        fill_value='?',\n",
       "             dtype=object),\n",
       " 'param_verbose': masked_array(data=[0, 0, 0, 0, 0, 0, 0, 0, 0, 0, 0, 0, 0, 0, 0, 0, 0, 0,\n",
       "                    0, 0, 0, 0],\n",
       "              mask=[False, False, False, False, False, False, False, False,\n",
       "                    False, False, False, False, False, False, False, False,\n",
       "                    False, False, False, False, False, False],\n",
       "        fill_value='?',\n",
       "             dtype=object),\n",
       " 'param_warm_start': masked_array(data=[True, False, True, False, True, False, True, False,\n",
       "                    True, False, True, False, True, False, True, False,\n",
       "                    True, False, True, False, True, False],\n",
       "              mask=[False, False, False, False, False, False, False, False,\n",
       "                    False, False, False, False, False, False, False, False,\n",
       "                    False, False, False, False, False, False],\n",
       "        fill_value='?',\n",
       "             dtype=object),\n",
       " 'params': [{'C': 4.0,\n",
       "   'class_weight': None,\n",
       "   'dual': False,\n",
       "   'fit_intercept': True,\n",
       "   'intercept_scaling': 1.0,\n",
       "   'l1_ratio': None,\n",
       "   'max_iter': 100,\n",
       "   'multi_class': 'auto',\n",
       "   'n_jobs': 1,\n",
       "   'penalty': 'l2',\n",
       "   'random_state': 41,\n",
       "   'solver': 'lbfgs',\n",
       "   'tol': 0.0001,\n",
       "   'verbose': 0,\n",
       "   'warm_start': True},\n",
       "  {'C': 4.0,\n",
       "   'class_weight': None,\n",
       "   'dual': False,\n",
       "   'fit_intercept': True,\n",
       "   'intercept_scaling': 1.0,\n",
       "   'l1_ratio': None,\n",
       "   'max_iter': 100,\n",
       "   'multi_class': 'auto',\n",
       "   'n_jobs': 1,\n",
       "   'penalty': 'l2',\n",
       "   'random_state': 41,\n",
       "   'solver': 'lbfgs',\n",
       "   'tol': 0.0001,\n",
       "   'verbose': 0,\n",
       "   'warm_start': False},\n",
       "  {'C': 4.0,\n",
       "   'class_weight': None,\n",
       "   'dual': False,\n",
       "   'fit_intercept': True,\n",
       "   'intercept_scaling': 1.0,\n",
       "   'l1_ratio': 0.1,\n",
       "   'max_iter': 100,\n",
       "   'multi_class': 'auto',\n",
       "   'n_jobs': 1,\n",
       "   'penalty': 'l2',\n",
       "   'random_state': 41,\n",
       "   'solver': 'lbfgs',\n",
       "   'tol': 0.0001,\n",
       "   'verbose': 0,\n",
       "   'warm_start': True},\n",
       "  {'C': 4.0,\n",
       "   'class_weight': None,\n",
       "   'dual': False,\n",
       "   'fit_intercept': True,\n",
       "   'intercept_scaling': 1.0,\n",
       "   'l1_ratio': 0.1,\n",
       "   'max_iter': 100,\n",
       "   'multi_class': 'auto',\n",
       "   'n_jobs': 1,\n",
       "   'penalty': 'l2',\n",
       "   'random_state': 41,\n",
       "   'solver': 'lbfgs',\n",
       "   'tol': 0.0001,\n",
       "   'verbose': 0,\n",
       "   'warm_start': False},\n",
       "  {'C': 4.0,\n",
       "   'class_weight': None,\n",
       "   'dual': False,\n",
       "   'fit_intercept': True,\n",
       "   'intercept_scaling': 1.0,\n",
       "   'l1_ratio': 0.2,\n",
       "   'max_iter': 100,\n",
       "   'multi_class': 'auto',\n",
       "   'n_jobs': 1,\n",
       "   'penalty': 'l2',\n",
       "   'random_state': 41,\n",
       "   'solver': 'lbfgs',\n",
       "   'tol': 0.0001,\n",
       "   'verbose': 0,\n",
       "   'warm_start': True},\n",
       "  {'C': 4.0,\n",
       "   'class_weight': None,\n",
       "   'dual': False,\n",
       "   'fit_intercept': True,\n",
       "   'intercept_scaling': 1.0,\n",
       "   'l1_ratio': 0.2,\n",
       "   'max_iter': 100,\n",
       "   'multi_class': 'auto',\n",
       "   'n_jobs': 1,\n",
       "   'penalty': 'l2',\n",
       "   'random_state': 41,\n",
       "   'solver': 'lbfgs',\n",
       "   'tol': 0.0001,\n",
       "   'verbose': 0,\n",
       "   'warm_start': False},\n",
       "  {'C': 4.0,\n",
       "   'class_weight': None,\n",
       "   'dual': False,\n",
       "   'fit_intercept': True,\n",
       "   'intercept_scaling': 1.0,\n",
       "   'l1_ratio': 0.3,\n",
       "   'max_iter': 100,\n",
       "   'multi_class': 'auto',\n",
       "   'n_jobs': 1,\n",
       "   'penalty': 'l2',\n",
       "   'random_state': 41,\n",
       "   'solver': 'lbfgs',\n",
       "   'tol': 0.0001,\n",
       "   'verbose': 0,\n",
       "   'warm_start': True},\n",
       "  {'C': 4.0,\n",
       "   'class_weight': None,\n",
       "   'dual': False,\n",
       "   'fit_intercept': True,\n",
       "   'intercept_scaling': 1.0,\n",
       "   'l1_ratio': 0.3,\n",
       "   'max_iter': 100,\n",
       "   'multi_class': 'auto',\n",
       "   'n_jobs': 1,\n",
       "   'penalty': 'l2',\n",
       "   'random_state': 41,\n",
       "   'solver': 'lbfgs',\n",
       "   'tol': 0.0001,\n",
       "   'verbose': 0,\n",
       "   'warm_start': False},\n",
       "  {'C': 4.0,\n",
       "   'class_weight': None,\n",
       "   'dual': False,\n",
       "   'fit_intercept': True,\n",
       "   'intercept_scaling': 1.0,\n",
       "   'l1_ratio': 0.4,\n",
       "   'max_iter': 100,\n",
       "   'multi_class': 'auto',\n",
       "   'n_jobs': 1,\n",
       "   'penalty': 'l2',\n",
       "   'random_state': 41,\n",
       "   'solver': 'lbfgs',\n",
       "   'tol': 0.0001,\n",
       "   'verbose': 0,\n",
       "   'warm_start': True},\n",
       "  {'C': 4.0,\n",
       "   'class_weight': None,\n",
       "   'dual': False,\n",
       "   'fit_intercept': True,\n",
       "   'intercept_scaling': 1.0,\n",
       "   'l1_ratio': 0.4,\n",
       "   'max_iter': 100,\n",
       "   'multi_class': 'auto',\n",
       "   'n_jobs': 1,\n",
       "   'penalty': 'l2',\n",
       "   'random_state': 41,\n",
       "   'solver': 'lbfgs',\n",
       "   'tol': 0.0001,\n",
       "   'verbose': 0,\n",
       "   'warm_start': False},\n",
       "  {'C': 4.0,\n",
       "   'class_weight': None,\n",
       "   'dual': False,\n",
       "   'fit_intercept': True,\n",
       "   'intercept_scaling': 1.0,\n",
       "   'l1_ratio': 0.5,\n",
       "   'max_iter': 100,\n",
       "   'multi_class': 'auto',\n",
       "   'n_jobs': 1,\n",
       "   'penalty': 'l2',\n",
       "   'random_state': 41,\n",
       "   'solver': 'lbfgs',\n",
       "   'tol': 0.0001,\n",
       "   'verbose': 0,\n",
       "   'warm_start': True},\n",
       "  {'C': 4.0,\n",
       "   'class_weight': None,\n",
       "   'dual': False,\n",
       "   'fit_intercept': True,\n",
       "   'intercept_scaling': 1.0,\n",
       "   'l1_ratio': 0.5,\n",
       "   'max_iter': 100,\n",
       "   'multi_class': 'auto',\n",
       "   'n_jobs': 1,\n",
       "   'penalty': 'l2',\n",
       "   'random_state': 41,\n",
       "   'solver': 'lbfgs',\n",
       "   'tol': 0.0001,\n",
       "   'verbose': 0,\n",
       "   'warm_start': False},\n",
       "  {'C': 4.0,\n",
       "   'class_weight': None,\n",
       "   'dual': False,\n",
       "   'fit_intercept': True,\n",
       "   'intercept_scaling': 1.0,\n",
       "   'l1_ratio': 0.6,\n",
       "   'max_iter': 100,\n",
       "   'multi_class': 'auto',\n",
       "   'n_jobs': 1,\n",
       "   'penalty': 'l2',\n",
       "   'random_state': 41,\n",
       "   'solver': 'lbfgs',\n",
       "   'tol': 0.0001,\n",
       "   'verbose': 0,\n",
       "   'warm_start': True},\n",
       "  {'C': 4.0,\n",
       "   'class_weight': None,\n",
       "   'dual': False,\n",
       "   'fit_intercept': True,\n",
       "   'intercept_scaling': 1.0,\n",
       "   'l1_ratio': 0.6,\n",
       "   'max_iter': 100,\n",
       "   'multi_class': 'auto',\n",
       "   'n_jobs': 1,\n",
       "   'penalty': 'l2',\n",
       "   'random_state': 41,\n",
       "   'solver': 'lbfgs',\n",
       "   'tol': 0.0001,\n",
       "   'verbose': 0,\n",
       "   'warm_start': False},\n",
       "  {'C': 4.0,\n",
       "   'class_weight': None,\n",
       "   'dual': False,\n",
       "   'fit_intercept': True,\n",
       "   'intercept_scaling': 1.0,\n",
       "   'l1_ratio': 0.7,\n",
       "   'max_iter': 100,\n",
       "   'multi_class': 'auto',\n",
       "   'n_jobs': 1,\n",
       "   'penalty': 'l2',\n",
       "   'random_state': 41,\n",
       "   'solver': 'lbfgs',\n",
       "   'tol': 0.0001,\n",
       "   'verbose': 0,\n",
       "   'warm_start': True},\n",
       "  {'C': 4.0,\n",
       "   'class_weight': None,\n",
       "   'dual': False,\n",
       "   'fit_intercept': True,\n",
       "   'intercept_scaling': 1.0,\n",
       "   'l1_ratio': 0.7,\n",
       "   'max_iter': 100,\n",
       "   'multi_class': 'auto',\n",
       "   'n_jobs': 1,\n",
       "   'penalty': 'l2',\n",
       "   'random_state': 41,\n",
       "   'solver': 'lbfgs',\n",
       "   'tol': 0.0001,\n",
       "   'verbose': 0,\n",
       "   'warm_start': False},\n",
       "  {'C': 4.0,\n",
       "   'class_weight': None,\n",
       "   'dual': False,\n",
       "   'fit_intercept': True,\n",
       "   'intercept_scaling': 1.0,\n",
       "   'l1_ratio': 0.8,\n",
       "   'max_iter': 100,\n",
       "   'multi_class': 'auto',\n",
       "   'n_jobs': 1,\n",
       "   'penalty': 'l2',\n",
       "   'random_state': 41,\n",
       "   'solver': 'lbfgs',\n",
       "   'tol': 0.0001,\n",
       "   'verbose': 0,\n",
       "   'warm_start': True},\n",
       "  {'C': 4.0,\n",
       "   'class_weight': None,\n",
       "   'dual': False,\n",
       "   'fit_intercept': True,\n",
       "   'intercept_scaling': 1.0,\n",
       "   'l1_ratio': 0.8,\n",
       "   'max_iter': 100,\n",
       "   'multi_class': 'auto',\n",
       "   'n_jobs': 1,\n",
       "   'penalty': 'l2',\n",
       "   'random_state': 41,\n",
       "   'solver': 'lbfgs',\n",
       "   'tol': 0.0001,\n",
       "   'verbose': 0,\n",
       "   'warm_start': False},\n",
       "  {'C': 4.0,\n",
       "   'class_weight': None,\n",
       "   'dual': False,\n",
       "   'fit_intercept': True,\n",
       "   'intercept_scaling': 1.0,\n",
       "   'l1_ratio': 0.9,\n",
       "   'max_iter': 100,\n",
       "   'multi_class': 'auto',\n",
       "   'n_jobs': 1,\n",
       "   'penalty': 'l2',\n",
       "   'random_state': 41,\n",
       "   'solver': 'lbfgs',\n",
       "   'tol': 0.0001,\n",
       "   'verbose': 0,\n",
       "   'warm_start': True},\n",
       "  {'C': 4.0,\n",
       "   'class_weight': None,\n",
       "   'dual': False,\n",
       "   'fit_intercept': True,\n",
       "   'intercept_scaling': 1.0,\n",
       "   'l1_ratio': 0.9,\n",
       "   'max_iter': 100,\n",
       "   'multi_class': 'auto',\n",
       "   'n_jobs': 1,\n",
       "   'penalty': 'l2',\n",
       "   'random_state': 41,\n",
       "   'solver': 'lbfgs',\n",
       "   'tol': 0.0001,\n",
       "   'verbose': 0,\n",
       "   'warm_start': False},\n",
       "  {'C': 4.0,\n",
       "   'class_weight': None,\n",
       "   'dual': False,\n",
       "   'fit_intercept': True,\n",
       "   'intercept_scaling': 1.0,\n",
       "   'l1_ratio': 1.0,\n",
       "   'max_iter': 100,\n",
       "   'multi_class': 'auto',\n",
       "   'n_jobs': 1,\n",
       "   'penalty': 'l2',\n",
       "   'random_state': 41,\n",
       "   'solver': 'lbfgs',\n",
       "   'tol': 0.0001,\n",
       "   'verbose': 0,\n",
       "   'warm_start': True},\n",
       "  {'C': 4.0,\n",
       "   'class_weight': None,\n",
       "   'dual': False,\n",
       "   'fit_intercept': True,\n",
       "   'intercept_scaling': 1.0,\n",
       "   'l1_ratio': 1.0,\n",
       "   'max_iter': 100,\n",
       "   'multi_class': 'auto',\n",
       "   'n_jobs': 1,\n",
       "   'penalty': 'l2',\n",
       "   'random_state': 41,\n",
       "   'solver': 'lbfgs',\n",
       "   'tol': 0.0001,\n",
       "   'verbose': 0,\n",
       "   'warm_start': False}],\n",
       " 'split0_test_score': array([0.74832215, 0.74832215, 0.74832215, 0.74832215, 0.74832215,\n",
       "        0.74832215, 0.74832215, 0.74832215, 0.74832215, 0.74832215,\n",
       "        0.74832215, 0.74832215, 0.74832215, 0.74832215, 0.74832215,\n",
       "        0.74832215, 0.74832215, 0.74832215, 0.74832215, 0.74832215,\n",
       "        0.74832215, 0.74832215]),\n",
       " 'split1_test_score': array([0.77516779, 0.77516779, 0.77516779, 0.77516779, 0.77516779,\n",
       "        0.77516779, 0.77516779, 0.77516779, 0.77516779, 0.77516779,\n",
       "        0.77516779, 0.77516779, 0.77516779, 0.77516779, 0.77516779,\n",
       "        0.77516779, 0.77516779, 0.77516779, 0.77516779, 0.77516779,\n",
       "        0.77516779, 0.77516779]),\n",
       " 'split2_test_score': array([0.77852349, 0.77852349, 0.77852349, 0.77852349, 0.77852349,\n",
       "        0.77852349, 0.77852349, 0.77852349, 0.77852349, 0.77852349,\n",
       "        0.77852349, 0.77852349, 0.77852349, 0.77852349, 0.77852349,\n",
       "        0.77852349, 0.77852349, 0.77852349, 0.77852349, 0.77852349,\n",
       "        0.77852349, 0.77852349]),\n",
       " 'split3_test_score': array([0.75167785, 0.75167785, 0.75167785, 0.75167785, 0.75167785,\n",
       "        0.75167785, 0.75167785, 0.75167785, 0.75167785, 0.75167785,\n",
       "        0.75167785, 0.75167785, 0.75167785, 0.75167785, 0.75167785,\n",
       "        0.75167785, 0.75167785, 0.75167785, 0.75167785, 0.75167785,\n",
       "        0.75167785, 0.75167785]),\n",
       " 'split4_test_score': array([0.76174497, 0.76174497, 0.76174497, 0.76174497, 0.76174497,\n",
       "        0.76174497, 0.76174497, 0.76174497, 0.76174497, 0.76174497,\n",
       "        0.76174497, 0.76174497, 0.76174497, 0.76174497, 0.76174497,\n",
       "        0.76174497, 0.76174497, 0.76174497, 0.76174497, 0.76174497,\n",
       "        0.76174497, 0.76174497]),\n",
       " 'split5_test_score': array([0.79194631, 0.79194631, 0.79194631, 0.79194631, 0.79194631,\n",
       "        0.79194631, 0.79194631, 0.79194631, 0.79194631, 0.79194631,\n",
       "        0.79194631, 0.79194631, 0.79194631, 0.79194631, 0.79194631,\n",
       "        0.79194631, 0.79194631, 0.79194631, 0.79194631, 0.79194631,\n",
       "        0.79194631, 0.79194631]),\n",
       " 'split6_test_score': array([0.76430976, 0.76430976, 0.76430976, 0.76430976, 0.76430976,\n",
       "        0.76430976, 0.76430976, 0.76430976, 0.76430976, 0.76430976,\n",
       "        0.76430976, 0.76430976, 0.76430976, 0.76430976, 0.76430976,\n",
       "        0.76430976, 0.76430976, 0.76430976, 0.76430976, 0.76430976,\n",
       "        0.76430976, 0.76430976]),\n",
       " 'split7_test_score': array([0.77441077, 0.77441077, 0.77441077, 0.77441077, 0.77441077,\n",
       "        0.77441077, 0.77441077, 0.77441077, 0.77441077, 0.77441077,\n",
       "        0.77441077, 0.77441077, 0.77441077, 0.77441077, 0.77441077,\n",
       "        0.77441077, 0.77441077, 0.77441077, 0.77441077, 0.77441077,\n",
       "        0.77441077, 0.77441077]),\n",
       " 'split8_test_score': array([0.76430976, 0.76430976, 0.76430976, 0.76430976, 0.76430976,\n",
       "        0.76430976, 0.76430976, 0.76430976, 0.76430976, 0.76430976,\n",
       "        0.76430976, 0.76430976, 0.76430976, 0.76430976, 0.76430976,\n",
       "        0.76430976, 0.76430976, 0.76430976, 0.76430976, 0.76430976,\n",
       "        0.76430976, 0.76430976]),\n",
       " 'split9_test_score': array([0.77441077, 0.77441077, 0.77441077, 0.77441077, 0.77441077,\n",
       "        0.77441077, 0.77441077, 0.77441077, 0.77441077, 0.77441077,\n",
       "        0.77441077, 0.77441077, 0.77441077, 0.77441077, 0.77441077,\n",
       "        0.77441077, 0.77441077, 0.77441077, 0.77441077, 0.77441077,\n",
       "        0.77441077, 0.77441077]),\n",
       " 'mean_test_score': array([0.76848236, 0.76848236, 0.76848236, 0.76848236, 0.76848236,\n",
       "        0.76848236, 0.76848236, 0.76848236, 0.76848236, 0.76848236,\n",
       "        0.76848236, 0.76848236, 0.76848236, 0.76848236, 0.76848236,\n",
       "        0.76848236, 0.76848236, 0.76848236, 0.76848236, 0.76848236,\n",
       "        0.76848236, 0.76848236]),\n",
       " 'std_test_score': array([0.01239116, 0.01239116, 0.01239116, 0.01239116, 0.01239116,\n",
       "        0.01239116, 0.01239116, 0.01239116, 0.01239116, 0.01239116,\n",
       "        0.01239116, 0.01239116, 0.01239116, 0.01239116, 0.01239116,\n",
       "        0.01239116, 0.01239116, 0.01239116, 0.01239116, 0.01239116,\n",
       "        0.01239116, 0.01239116]),\n",
       " 'rank_test_score': array([1, 1, 1, 1, 1, 1, 1, 1, 1, 1, 1, 1, 1, 1, 1, 1, 1, 1, 1, 1, 1, 1])}"
      ]
     },
     "execution_count": 108,
     "metadata": {},
     "output_type": "execute_result"
    }
   ],
   "source": [
    "%%time\n",
    "clf = GridSearchCV(model, param, cv=10, return_train_score=False)\n",
    "\n",
    "clf.fit(xtrain, ytrain)\n",
    "\n",
    "clf.cv_results_"
   ]
  },
  {
   "cell_type": "code",
   "execution_count": 109,
   "metadata": {
    "ExecuteTime": {
     "end_time": "2021-04-26T15:02:30.775724Z",
     "start_time": "2021-04-26T15:02:30.761761Z"
    }
   },
   "outputs": [
    {
     "data": {
      "text/plain": [
       "{'C': 4.0,\n",
       " 'class_weight': None,\n",
       " 'dual': False,\n",
       " 'fit_intercept': True,\n",
       " 'intercept_scaling': 1.0,\n",
       " 'l1_ratio': None,\n",
       " 'max_iter': 100,\n",
       " 'multi_class': 'auto',\n",
       " 'n_jobs': 1,\n",
       " 'penalty': 'l2',\n",
       " 'random_state': 41,\n",
       " 'solver': 'lbfgs',\n",
       " 'tol': 0.0001,\n",
       " 'verbose': 0,\n",
       " 'warm_start': True}"
      ]
     },
     "execution_count": 109,
     "metadata": {},
     "output_type": "execute_result"
    }
   ],
   "source": [
    "clf.best_params_"
   ]
  },
  {
   "cell_type": "markdown",
   "metadata": {},
   "source": [
    "Parameter from **GridSearchCV**\n",
    "\n",
    "C= 4.0, class_weight= None, dual= False, fit_intercept= True, intercept_scaling= 1.0,\n",
    "l1_ratio= None, max_iter= 100, multi_class= auto, n_jobs= 1, penalty= l2, random_state= 41,\n",
    "solver= lbfgs, tol= 0.0001, verbose= 0, warm_start= True"
   ]
  },
  {
   "cell_type": "markdown",
   "metadata": {},
   "source": [
    "### Testing Model with HyperTuning Parameter with RandomSearchCV"
   ]
  },
  {
   "cell_type": "code",
   "execution_count": 12,
   "metadata": {
    "ExecuteTime": {
     "end_time": "2021-04-29T14:56:44.563400Z",
     "start_time": "2021-04-29T14:56:44.555625Z"
    }
   },
   "outputs": [],
   "source": [
    "LR_R = LogisticRegression(warm_start= False, verbose= 2, tol= 0.0001, solver= 'newton-cg', \n",
    "                          random_state= 41, penalty= 'l2', n_jobs= 7, multi_class= 'multinomial', \n",
    "                          max_iter= 100, l1_ratio= 0.4, intercept_scaling= 3.0, fit_intercept= True, \n",
    "                          dual= False, class_weight= None, C= 5.0)"
   ]
  },
  {
   "cell_type": "code",
   "execution_count": 13,
   "metadata": {
    "ExecuteTime": {
     "end_time": "2021-04-29T14:56:49.020017Z",
     "start_time": "2021-04-29T14:56:46.732609Z"
    }
   },
   "outputs": [
    {
     "name": "stderr",
     "output_type": "stream",
     "text": [
      "[Parallel(n_jobs=7)]: Using backend LokyBackend with 7 concurrent workers.\n",
      "[Parallel(n_jobs=7)]: Done   1 out of   1 | elapsed:    2.2s finished\n"
     ]
    },
    {
     "data": {
      "text/plain": [
       "LogisticRegression(C=5.0, intercept_scaling=3.0, l1_ratio=0.4,\n",
       "                   multi_class='multinomial', n_jobs=7, random_state=41,\n",
       "                   solver='newton-cg', verbose=2)"
      ]
     },
     "execution_count": 13,
     "metadata": {},
     "output_type": "execute_result"
    }
   ],
   "source": [
    "# Fit Data\n",
    "LR_R.fit(xtrain, ytrain)"
   ]
  },
  {
   "cell_type": "code",
   "execution_count": 14,
   "metadata": {
    "ExecuteTime": {
     "end_time": "2021-04-29T14:56:50.778216Z",
     "start_time": "2021-04-29T14:56:50.749911Z"
    }
   },
   "outputs": [],
   "source": [
    "ypred_lrr = LR_R.predict(xtest)"
   ]
  },
  {
   "cell_type": "code",
   "execution_count": 15,
   "metadata": {
    "ExecuteTime": {
     "end_time": "2021-04-29T14:57:02.911334Z",
     "start_time": "2021-04-29T14:57:02.550324Z"
    }
   },
   "outputs": [
    {
     "data": {
      "text/plain": [
       "Text(0.5, 1.0, 'Confussion Matrix for RandomSearchCV')"
      ]
     },
     "execution_count": 15,
     "metadata": {},
     "output_type": "execute_result"
    },
    {
     "data": {
      "image/png": "[encoded data removed]",
      "text/plain": [
       "<Figure size 576x396 with 2 Axes>"
      ]
     },
     "metadata": {},
     "output_type": "display_data"
    }
   ],
   "source": [
    "plot_confusion_matrix(LR_R, xtest, ytest, cmap = plt.cm.Blues)\n",
    "plt.grid(False)\n",
    "plt.title('Confussion Matrix for RandomSearchCV')"
   ]
  },
  {
   "cell_type": "code",
   "execution_count": 16,
   "metadata": {
    "ExecuteTime": {
     "end_time": "2021-04-29T14:57:16.570352Z",
     "start_time": "2021-04-29T14:57:08.293294Z"
    }
   },
   "outputs": [
    {
     "name": "stderr",
     "output_type": "stream",
     "text": [
      "[Parallel(n_jobs=7)]: Using backend LokyBackend with 7 concurrent workers.\n",
      "[Parallel(n_jobs=7)]: Done   1 out of   1 | elapsed:    1.3s finished\n",
      "[Parallel(n_jobs=7)]: Using backend LokyBackend with 7 concurrent workers.\n",
      "[Parallel(n_jobs=7)]: Done   1 out of   1 | elapsed:    1.2s finished\n",
      "[Parallel(n_jobs=7)]: Using backend LokyBackend with 7 concurrent workers.\n",
      "[Parallel(n_jobs=7)]: Done   1 out of   1 | elapsed:    1.2s finished\n",
      "[Parallel(n_jobs=7)]: Using backend LokyBackend with 7 concurrent workers.\n",
      "[Parallel(n_jobs=7)]: Done   1 out of   1 | elapsed:    1.2s finished\n",
      "[Parallel(n_jobs=7)]: Using backend LokyBackend with 7 concurrent workers.\n",
      "[Parallel(n_jobs=7)]: Done   1 out of   1 | elapsed:    1.2s finished\n",
      "[Parallel(n_jobs=7)]: Using backend LokyBackend with 7 concurrent workers.\n",
      "[Parallel(n_jobs=7)]: Done   1 out of   1 | elapsed:    1.2s finished\n",
      "[Parallel(n_jobs=7)]: Using backend LokyBackend with 7 concurrent workers.\n",
      "[Parallel(n_jobs=7)]: Done   1 out of   1 | elapsed:    0.0s finished\n",
      "[Parallel(n_jobs=7)]: Using backend LokyBackend with 7 concurrent workers.\n",
      "[Parallel(n_jobs=7)]: Done   1 out of   1 | elapsed:    0.0s finished\n",
      "[Parallel(n_jobs=7)]: Using backend LokyBackend with 7 concurrent workers.\n",
      "[Parallel(n_jobs=7)]: Done   1 out of   1 | elapsed:    0.0s finished\n",
      "[Parallel(n_jobs=7)]: Using backend LokyBackend with 7 concurrent workers.\n",
      "[Parallel(n_jobs=7)]: Done   1 out of   1 | elapsed:    0.0s finished\n"
     ]
    }
   ],
   "source": [
    "LR_R_train_score = round(LR_R.score(xtrain, ytrain)*100, 2)\n",
    "LR_R_test_score = round(LR_R.score(xtest, ytest)*100, 2)\n",
    "LR_R_crossval = cross_val_score(LR_R, xtest, ytest, cv = 10).mean()"
   ]
  },
  {
   "cell_type": "code",
   "execution_count": 56,
   "metadata": {
    "ExecuteTime": {
     "end_time": "2021-04-29T15:01:20.659985Z",
     "start_time": "2021-04-29T15:01:20.636083Z"
    }
   },
   "outputs": [
    {
     "name": "stdout",
     "output_type": "stream",
     "text": [
      "Classification Report RandomSearchCV\n",
      "              precision    recall  f1-score   support\n",
      "\n",
      "           0       0.91      0.70      0.79      1028\n",
      "           1       0.50      0.81      0.62       381\n",
      "\n",
      "    accuracy                           0.73      1409\n",
      "   macro avg       0.70      0.75      0.70      1409\n",
      "weighted avg       0.80      0.73      0.74      1409\n",
      "\n",
      "Train Score : 77.05 %\n",
      "Test Score : 72.75 %\n",
      "RandomSearchCV Cross Validation Score : 78.85 %\n",
      "\n",
      "\n"
     ]
    }
   ],
   "source": [
    "print('Classification Report RandomSearchCV')\n",
    "print(classification_report(ytest, ypred_lrr))\n",
    "print(f'Train Score : {LR_R_train_score} %')\n",
    "print(f'Test Score : {LR_R_test_score} %')\n",
    "print(f'RandomSearchCV Cross Validation Score : {round(LR_R_crossval*100, 2)} %')\n",
    "print('\\n')"
   ]
  },
  {
   "cell_type": "markdown",
   "metadata": {},
   "source": [
    "### Testing Model with HyperTuning Parameter with GridSearchCV"
   ]
  },
  {
   "cell_type": "code",
   "execution_count": 24,
   "metadata": {
    "ExecuteTime": {
     "end_time": "2021-04-29T14:58:10.988147Z",
     "start_time": "2021-04-29T14:58:10.972330Z"
    }
   },
   "outputs": [],
   "source": [
    "from sklearn.linear_model import LogisticRegression\n",
    "\n",
    "LR_G = LogisticRegression(C= 4.0, class_weight= None, dual= False, fit_intercept= True, intercept_scaling= 1.0,\n",
    "l1_ratio= None, max_iter= 100, multi_class= 'auto', n_jobs= 1, penalty= 'l2', random_state= 41,\n",
    "solver= 'lbfgs', tol= 0.0001, verbose= 0, warm_start= True)"
   ]
  },
  {
   "cell_type": "code",
   "execution_count": 25,
   "metadata": {
    "ExecuteTime": {
     "end_time": "2021-04-29T14:58:11.672800Z",
     "start_time": "2021-04-29T14:58:11.364051Z"
    }
   },
   "outputs": [
    {
     "data": {
      "text/plain": [
       "LogisticRegression(C=4.0, intercept_scaling=1.0, n_jobs=1, random_state=41,\n",
       "                   warm_start=True)"
      ]
     },
     "execution_count": 25,
     "metadata": {},
     "output_type": "execute_result"
    }
   ],
   "source": [
    "# Fit Data\n",
    "LR_G.fit(xtrain, ytrain)"
   ]
  },
  {
   "cell_type": "code",
   "execution_count": 26,
   "metadata": {
    "ExecuteTime": {
     "end_time": "2021-04-29T14:58:13.510228Z",
     "start_time": "2021-04-29T14:58:13.491212Z"
    }
   },
   "outputs": [],
   "source": [
    "ypred_lrg = LR_G.predict(xtest)"
   ]
  },
  {
   "cell_type": "code",
   "execution_count": 27,
   "metadata": {
    "ExecuteTime": {
     "end_time": "2021-04-29T14:58:19.695216Z",
     "start_time": "2021-04-29T14:58:19.398424Z"
    }
   },
   "outputs": [
    {
     "data": {
      "text/plain": [
       "Text(0.5, 1.0, 'Confussion Matrix for GridSearchCV')"
      ]
     },
     "execution_count": 27,
     "metadata": {},
     "output_type": "execute_result"
    },
    {
     "data": {
      "image/png": "[encoded data removed]",
      "text/plain": [
       "<Figure size 576x396 with 2 Axes>"
      ]
     },
     "metadata": {},
     "output_type": "display_data"
    }
   ],
   "source": [
    "plot_confusion_matrix(LR_G, xtest, ytest, cmap = plt.cm.Blues)\n",
    "plt.grid(False)\n",
    "plt.title('Confussion Matrix for GridSearchCV')"
   ]
  },
  {
   "cell_type": "code",
   "execution_count": 28,
   "metadata": {
    "ExecuteTime": {
     "end_time": "2021-04-29T14:58:35.511002Z",
     "start_time": "2021-04-29T14:58:34.824296Z"
    }
   },
   "outputs": [],
   "source": [
    "LR_G_train_score = round(LR_G.score(xtrain, ytrain)*100, 2)\n",
    "LR_G_test_score = round(LR_G.score(xtest, ytest)*100, 2)\n",
    "LR_G_crossval = cross_val_score(LR_G, xtest, ytest, cv = 10).mean()"
   ]
  },
  {
   "cell_type": "code",
   "execution_count": 57,
   "metadata": {
    "ExecuteTime": {
     "end_time": "2021-04-29T15:03:02.893782Z",
     "start_time": "2021-04-29T15:03:02.872242Z"
    }
   },
   "outputs": [
    {
     "name": "stdout",
     "output_type": "stream",
     "text": [
      "Classification Report GridSearchCV\n",
      "              precision    recall  f1-score   support\n",
      "\n",
      "           0       0.91      0.70      0.79      1028\n",
      "           1       0.50      0.81      0.62       381\n",
      "\n",
      "    accuracy                           0.73      1409\n",
      "   macro avg       0.70      0.76      0.70      1409\n",
      "weighted avg       0.80      0.73      0.74      1409\n",
      "\n",
      "Train Score : 77.08 %\n",
      "Test Score : 72.82 %\n",
      "GridSearchCV Cross Validation Score : 78.64 %\n",
      "\n",
      "\n"
     ]
    }
   ],
   "source": [
    "print('Classification Report GridSearchCV')\n",
    "print(classification_report(ytest, ypred_lrg))\n",
    "print(f'Train Score : {LR_G_train_score} %')\n",
    "print(f'Test Score : {LR_G_test_score} %')\n",
    "print(f'GridSearchCV Cross Validation Score : {round(LR_G_crossval*100, 2)} %')\n",
    "print('\\n')"
   ]
  },
  {
   "cell_type": "markdown",
   "metadata": {},
   "source": [
    "### Testing Model without Hypertuning"
   ]
  },
  {
   "cell_type": "code",
   "execution_count": 30,
   "metadata": {
    "ExecuteTime": {
     "end_time": "2021-04-29T14:58:46.118791Z",
     "start_time": "2021-04-29T14:58:46.101228Z"
    }
   },
   "outputs": [],
   "source": [
    "lr =LogisticRegression(penalty='l2', dual=False, tol=0.0001, C=1.0, random_state = 41)"
   ]
  },
  {
   "cell_type": "code",
   "execution_count": 31,
   "metadata": {
    "ExecuteTime": {
     "end_time": "2021-04-29T14:58:46.648144Z",
     "start_time": "2021-04-29T14:58:46.441644Z"
    }
   },
   "outputs": [
    {
     "data": {
      "text/plain": [
       "LogisticRegression(random_state=41)"
      ]
     },
     "execution_count": 31,
     "metadata": {},
     "output_type": "execute_result"
    }
   ],
   "source": [
    "# Fit Data\n",
    "lr.fit(xtrain, ytrain)"
   ]
  },
  {
   "cell_type": "code",
   "execution_count": 32,
   "metadata": {
    "ExecuteTime": {
     "end_time": "2021-04-29T14:58:55.256239Z",
     "start_time": "2021-04-29T14:58:55.245484Z"
    }
   },
   "outputs": [],
   "source": [
    "ypred_lr = lr.predict(xtest)"
   ]
  },
  {
   "cell_type": "code",
   "execution_count": 33,
   "metadata": {
    "ExecuteTime": {
     "end_time": "2021-04-29T14:59:06.117043Z",
     "start_time": "2021-04-29T14:59:05.780261Z"
    },
    "scrolled": false
   },
   "outputs": [
    {
     "data": {
      "text/plain": [
       "Text(0.5, 1.0, 'Confussion Matrix for Baseline Model')"
      ]
     },
     "execution_count": 33,
     "metadata": {},
     "output_type": "execute_result"
    },
    {
     "data": {
      "image/png": "[encoded data removed]",
      "text/plain": [
       "<Figure size 576x396 with 2 Axes>"
      ]
     },
     "metadata": {},
     "output_type": "display_data"
    }
   ],
   "source": [
    "plot_confusion_matrix(lr, xtest, ytest, cmap = plt.cm.Blues)\n",
    "plt.grid(False)\n",
    "plt.title('Confussion Matrix for Baseline Model')"
   ]
  },
  {
   "cell_type": "code",
   "execution_count": 34,
   "metadata": {
    "ExecuteTime": {
     "end_time": "2021-04-29T14:59:13.245380Z",
     "start_time": "2021-04-29T14:59:12.535954Z"
    }
   },
   "outputs": [],
   "source": [
    "lr_train_score = round(lr.score(xtrain, ytrain)*100, 2)\n",
    "lr_test_score = round(lr.score(xtest, ytest)*100, 2)\n",
    "lr_crossval = cross_val_score(lr, xtest, ytest, cv = 10).mean()"
   ]
  },
  {
   "cell_type": "code",
   "execution_count": 1,
   "metadata": {
    "ExecuteTime": {
     "end_time": "2021-04-29T15:14:05.099991Z",
     "start_time": "2021-04-29T15:14:04.835709Z"
    }
   },
   "outputs": [
    {
     "name": "stdout",
     "output_type": "stream",
     "text": [
      "Classification Report Baseline Model\n"
     ]
    },
    {
     "ename": "NameError",
     "evalue": "name 'classification_report' is not defined",
     "output_type": "error",
     "traceback": [
      "\u001b[1;31m---------------------------------------------------------------------------\u001b[0m",
      "\u001b[1;31mNameError\u001b[0m                                 Traceback (most recent call last)",
      "\u001b[1;32m<ipython-input-1-4c798e62edc8>\u001b[0m in \u001b[0;36m<module>\u001b[1;34m\u001b[0m\n\u001b[0;32m      1\u001b[0m \u001b[0mprint\u001b[0m\u001b[1;33m(\u001b[0m\u001b[1;34m'Classification Report Baseline Model'\u001b[0m\u001b[1;33m)\u001b[0m\u001b[1;33m\u001b[0m\u001b[1;33m\u001b[0m\u001b[0m\n\u001b[1;32m----> 2\u001b[1;33m \u001b[0mprint\u001b[0m\u001b[1;33m(\u001b[0m\u001b[0mclassification_report\u001b[0m\u001b[1;33m(\u001b[0m\u001b[0mytest\u001b[0m\u001b[1;33m,\u001b[0m \u001b[0mypred_lr\u001b[0m\u001b[1;33m)\u001b[0m\u001b[1;33m)\u001b[0m\u001b[1;33m\u001b[0m\u001b[1;33m\u001b[0m\u001b[0m\n\u001b[0m\u001b[0;32m      3\u001b[0m \u001b[0mprint\u001b[0m\u001b[1;33m(\u001b[0m\u001b[1;34mf'Train Score : {lr_train_score} %'\u001b[0m\u001b[1;33m)\u001b[0m\u001b[1;33m\u001b[0m\u001b[1;33m\u001b[0m\u001b[0m\n\u001b[0;32m      4\u001b[0m \u001b[0mprint\u001b[0m\u001b[1;33m(\u001b[0m\u001b[1;34mf'Test Score : {lr_test_score} %'\u001b[0m\u001b[1;33m)\u001b[0m\u001b[1;33m\u001b[0m\u001b[1;33m\u001b[0m\u001b[0m\n\u001b[0;32m      5\u001b[0m \u001b[0mprint\u001b[0m\u001b[1;33m(\u001b[0m\u001b[1;34mf'Baseline Model Cross Validation Score : {round(lr_crossval*100, 2)} %'\u001b[0m\u001b[1;33m)\u001b[0m\u001b[1;33m\u001b[0m\u001b[1;33m\u001b[0m\u001b[0m\n",
      "\u001b[1;31mNameError\u001b[0m: name 'classification_report' is not defined"
     ]
    }
   ],
   "source": [
    "print('Classification Report Baseline Model')\n",
    "print(classification_report(ytest, ypred_lr))\n",
    "print(f'Train Score : {lr_train_score} %')\n",
    "print(f'Test Score : {lr_test_score} %')\n",
    "print(f'Baseline Model Cross Validation Score : {round(lr_crossval*100, 2)} %')\n",
    "print('\\n')"
   ]
  },
  {
   "cell_type": "markdown",
   "metadata": {},
   "source": [
    "Hypertuning Parameter tidak digunakan dikarenakan metrics yang diperoleh lebih rendah dibandingkan tanpa dilakukan Hypertuning.\n",
    "Lanjut ke **Feature Selection**"
   ]
  },
  {
   "cell_type": "markdown",
   "metadata": {},
   "source": [
    "### Feature Selection"
   ]
  },
  {
   "cell_type": "code",
   "execution_count": 36,
   "metadata": {
    "ExecuteTime": {
     "end_time": "2021-04-29T14:59:27.127909Z",
     "start_time": "2021-04-29T14:59:27.115736Z"
    }
   },
   "outputs": [],
   "source": [
    "# Get Importance of All Feature\n",
    "importance = lr.coef_[0]"
   ]
  },
  {
   "cell_type": "code",
   "execution_count": 37,
   "metadata": {
    "ExecuteTime": {
     "end_time": "2021-04-29T14:59:27.629516Z",
     "start_time": "2021-04-29T14:59:27.611898Z"
    }
   },
   "outputs": [
    {
     "data": {
      "text/plain": [
       "array([ 0.04303422,  0.08393796,  0.03013694, -0.14776306, -2.70722531,\n",
       "       -1.16901567,  0.03150818,  0.28616321, -0.2548379 , -0.09453214,\n",
       "       -0.0866823 , -0.1771995 , -0.04530976,  0.0431146 , -0.84320237,\n",
       "        0.27456385,  2.77554406,  0.97320849, -0.15040538, -0.20059571,\n",
       "        0.29528687,  0.05222065])"
      ]
     },
     "execution_count": 37,
     "metadata": {},
     "output_type": "execute_result"
    }
   ],
   "source": [
    "importance"
   ]
  },
  {
   "cell_type": "code",
   "execution_count": 38,
   "metadata": {
    "ExecuteTime": {
     "end_time": "2021-04-29T14:59:28.493053Z",
     "start_time": "2021-04-29T14:59:28.463876Z"
    }
   },
   "outputs": [
    {
     "data": {
      "text/html": [
       "<div>\n",
       "<style scoped>\n",
       "    .dataframe tbody tr th:only-of-type {\n",
       "        vertical-align: middle;\n",
       "    }\n",
       "\n",
       "    .dataframe tbody tr th {\n",
       "        vertical-align: top;\n",
       "    }\n",
       "\n",
       "    .dataframe thead th {\n",
       "        text-align: right;\n",
       "    }\n",
       "</style>\n",
       "<table border=\"1\" class=\"dataframe\">\n",
       "  <thead>\n",
       "    <tr style=\"text-align: right;\">\n",
       "      <th></th>\n",
       "      <th>Value of Importance</th>\n",
       "    </tr>\n",
       "    <tr>\n",
       "      <th>Feature</th>\n",
       "      <th></th>\n",
       "    </tr>\n",
       "  </thead>\n",
       "  <tbody>\n",
       "    <tr>\n",
       "      <th>gender</th>\n",
       "      <td>0.043034</td>\n",
       "    </tr>\n",
       "    <tr>\n",
       "      <th>SeniorCitizen</th>\n",
       "      <td>0.083938</td>\n",
       "    </tr>\n",
       "    <tr>\n",
       "      <th>Partner</th>\n",
       "      <td>0.030137</td>\n",
       "    </tr>\n",
       "    <tr>\n",
       "      <th>Dependents</th>\n",
       "      <td>-0.147763</td>\n",
       "    </tr>\n",
       "    <tr>\n",
       "      <th>tenure</th>\n",
       "      <td>-2.707225</td>\n",
       "    </tr>\n",
       "    <tr>\n",
       "      <th>PhoneService</th>\n",
       "      <td>-1.169016</td>\n",
       "    </tr>\n",
       "    <tr>\n",
       "      <th>MultipleLines</th>\n",
       "      <td>0.031508</td>\n",
       "    </tr>\n",
       "    <tr>\n",
       "      <th>InternetService</th>\n",
       "      <td>0.286163</td>\n",
       "    </tr>\n",
       "    <tr>\n",
       "      <th>OnlineSecurity</th>\n",
       "      <td>-0.254838</td>\n",
       "    </tr>\n",
       "    <tr>\n",
       "      <th>OnlineBackup</th>\n",
       "      <td>-0.094532</td>\n",
       "    </tr>\n",
       "    <tr>\n",
       "      <th>DeviceProtection</th>\n",
       "      <td>-0.086682</td>\n",
       "    </tr>\n",
       "    <tr>\n",
       "      <th>TechSupport</th>\n",
       "      <td>-0.177199</td>\n",
       "    </tr>\n",
       "    <tr>\n",
       "      <th>StreamingTV</th>\n",
       "      <td>-0.045310</td>\n",
       "    </tr>\n",
       "    <tr>\n",
       "      <th>StreamingMovies</th>\n",
       "      <td>0.043115</td>\n",
       "    </tr>\n",
       "    <tr>\n",
       "      <th>Contract</th>\n",
       "      <td>-0.843202</td>\n",
       "    </tr>\n",
       "    <tr>\n",
       "      <th>PaperlessBilling</th>\n",
       "      <td>0.274564</td>\n",
       "    </tr>\n",
       "    <tr>\n",
       "      <th>MonthlyCharges</th>\n",
       "      <td>2.775544</td>\n",
       "    </tr>\n",
       "    <tr>\n",
       "      <th>TotalCharges</th>\n",
       "      <td>0.973208</td>\n",
       "    </tr>\n",
       "    <tr>\n",
       "      <th>PaymentMethod_Bank transfer (automatic)</th>\n",
       "      <td>-0.150405</td>\n",
       "    </tr>\n",
       "    <tr>\n",
       "      <th>PaymentMethod_Credit card (automatic)</th>\n",
       "      <td>-0.200596</td>\n",
       "    </tr>\n",
       "    <tr>\n",
       "      <th>PaymentMethod_Electronic check</th>\n",
       "      <td>0.295287</td>\n",
       "    </tr>\n",
       "    <tr>\n",
       "      <th>PaymentMethod_Mailed check</th>\n",
       "      <td>0.052221</td>\n",
       "    </tr>\n",
       "  </tbody>\n",
       "</table>\n",
       "</div>"
      ],
      "text/plain": [
       "                                         Value of Importance\n",
       "Feature                                                     \n",
       "gender                                              0.043034\n",
       "SeniorCitizen                                       0.083938\n",
       "Partner                                             0.030137\n",
       "Dependents                                         -0.147763\n",
       "tenure                                             -2.707225\n",
       "PhoneService                                       -1.169016\n",
       "MultipleLines                                       0.031508\n",
       "InternetService                                     0.286163\n",
       "OnlineSecurity                                     -0.254838\n",
       "OnlineBackup                                       -0.094532\n",
       "DeviceProtection                                   -0.086682\n",
       "TechSupport                                        -0.177199\n",
       "StreamingTV                                        -0.045310\n",
       "StreamingMovies                                     0.043115\n",
       "Contract                                           -0.843202\n",
       "PaperlessBilling                                    0.274564\n",
       "MonthlyCharges                                      2.775544\n",
       "TotalCharges                                        0.973208\n",
       "PaymentMethod_Bank transfer (automatic)            -0.150405\n",
       "PaymentMethod_Credit card (automatic)              -0.200596\n",
       "PaymentMethod_Electronic check                      0.295287\n",
       "PaymentMethod_Mailed check                          0.052221"
      ]
     },
     "execution_count": 38,
     "metadata": {},
     "output_type": "execute_result"
    }
   ],
   "source": [
    "# Dataframe for All Importance Feature\n",
    "kolom_data = list(X.columns)\n",
    "data_imp = pd.DataFrame({'Feature': kolom_data,\n",
    "                       'Value of Importance': importance})\n",
    "data_imp.set_index('Feature')"
   ]
  },
  {
   "cell_type": "code",
   "execution_count": 39,
   "metadata": {
    "ExecuteTime": {
     "end_time": "2021-04-29T14:59:35.400067Z",
     "start_time": "2021-04-29T14:59:34.965082Z"
    }
   },
   "outputs": [
    {
     "data": {
      "text/plain": [
       "<AxesSubplot:xlabel='Feature'>"
      ]
     },
     "execution_count": 39,
     "metadata": {},
     "output_type": "execute_result"
    },
    {
     "data": {
      "image/png": "[encoded data removed]",
      "text/plain": [
       "<Figure size 576x396 with 1 Axes>"
      ]
     },
     "metadata": {},
     "output_type": "display_data"
    }
   ],
   "source": [
    "# Visualization Value of Importance\n",
    "data_imp.set_index('Feature').plot.bar()"
   ]
  },
  {
   "cell_type": "code",
   "execution_count": 40,
   "metadata": {
    "ExecuteTime": {
     "end_time": "2021-04-29T14:59:38.277947Z",
     "start_time": "2021-04-29T14:59:38.257335Z"
    }
   },
   "outputs": [],
   "source": [
    "# Absolute value of importance to get all value positive\n",
    "def absolute(x):\n",
    "    if x['Value of Importance'] <0:\n",
    "        return x['Value of Importance']*-1\n",
    "    else:\n",
    "        return x['Value of Importance']\n",
    "data_imp['Value of Importance'] = data_imp.apply(lambda x: absolute(x), axis=1)"
   ]
  },
  {
   "cell_type": "code",
   "execution_count": 41,
   "metadata": {
    "ExecuteTime": {
     "end_time": "2021-04-29T14:59:40.420258Z",
     "start_time": "2021-04-29T14:59:40.406611Z"
    }
   },
   "outputs": [
    {
     "data": {
      "text/html": [
       "<div>\n",
       "<style scoped>\n",
       "    .dataframe tbody tr th:only-of-type {\n",
       "        vertical-align: middle;\n",
       "    }\n",
       "\n",
       "    .dataframe tbody tr th {\n",
       "        vertical-align: top;\n",
       "    }\n",
       "\n",
       "    .dataframe thead th {\n",
       "        text-align: right;\n",
       "    }\n",
       "</style>\n",
       "<table border=\"1\" class=\"dataframe\">\n",
       "  <thead>\n",
       "    <tr style=\"text-align: right;\">\n",
       "      <th></th>\n",
       "      <th>Feature</th>\n",
       "      <th>Value of Importance</th>\n",
       "    </tr>\n",
       "  </thead>\n",
       "  <tbody>\n",
       "    <tr>\n",
       "      <th>16</th>\n",
       "      <td>MonthlyCharges</td>\n",
       "      <td>2.775544</td>\n",
       "    </tr>\n",
       "    <tr>\n",
       "      <th>4</th>\n",
       "      <td>tenure</td>\n",
       "      <td>2.707225</td>\n",
       "    </tr>\n",
       "    <tr>\n",
       "      <th>5</th>\n",
       "      <td>PhoneService</td>\n",
       "      <td>1.169016</td>\n",
       "    </tr>\n",
       "    <tr>\n",
       "      <th>17</th>\n",
       "      <td>TotalCharges</td>\n",
       "      <td>0.973208</td>\n",
       "    </tr>\n",
       "    <tr>\n",
       "      <th>14</th>\n",
       "      <td>Contract</td>\n",
       "      <td>0.843202</td>\n",
       "    </tr>\n",
       "    <tr>\n",
       "      <th>20</th>\n",
       "      <td>PaymentMethod_Electronic check</td>\n",
       "      <td>0.295287</td>\n",
       "    </tr>\n",
       "    <tr>\n",
       "      <th>7</th>\n",
       "      <td>InternetService</td>\n",
       "      <td>0.286163</td>\n",
       "    </tr>\n",
       "    <tr>\n",
       "      <th>15</th>\n",
       "      <td>PaperlessBilling</td>\n",
       "      <td>0.274564</td>\n",
       "    </tr>\n",
       "    <tr>\n",
       "      <th>8</th>\n",
       "      <td>OnlineSecurity</td>\n",
       "      <td>0.254838</td>\n",
       "    </tr>\n",
       "    <tr>\n",
       "      <th>19</th>\n",
       "      <td>PaymentMethod_Credit card (automatic)</td>\n",
       "      <td>0.200596</td>\n",
       "    </tr>\n",
       "    <tr>\n",
       "      <th>11</th>\n",
       "      <td>TechSupport</td>\n",
       "      <td>0.177199</td>\n",
       "    </tr>\n",
       "    <tr>\n",
       "      <th>18</th>\n",
       "      <td>PaymentMethod_Bank transfer (automatic)</td>\n",
       "      <td>0.150405</td>\n",
       "    </tr>\n",
       "    <tr>\n",
       "      <th>3</th>\n",
       "      <td>Dependents</td>\n",
       "      <td>0.147763</td>\n",
       "    </tr>\n",
       "    <tr>\n",
       "      <th>9</th>\n",
       "      <td>OnlineBackup</td>\n",
       "      <td>0.094532</td>\n",
       "    </tr>\n",
       "    <tr>\n",
       "      <th>10</th>\n",
       "      <td>DeviceProtection</td>\n",
       "      <td>0.086682</td>\n",
       "    </tr>\n",
       "    <tr>\n",
       "      <th>1</th>\n",
       "      <td>SeniorCitizen</td>\n",
       "      <td>0.083938</td>\n",
       "    </tr>\n",
       "    <tr>\n",
       "      <th>21</th>\n",
       "      <td>PaymentMethod_Mailed check</td>\n",
       "      <td>0.052221</td>\n",
       "    </tr>\n",
       "    <tr>\n",
       "      <th>12</th>\n",
       "      <td>StreamingTV</td>\n",
       "      <td>0.045310</td>\n",
       "    </tr>\n",
       "    <tr>\n",
       "      <th>13</th>\n",
       "      <td>StreamingMovies</td>\n",
       "      <td>0.043115</td>\n",
       "    </tr>\n",
       "    <tr>\n",
       "      <th>0</th>\n",
       "      <td>gender</td>\n",
       "      <td>0.043034</td>\n",
       "    </tr>\n",
       "    <tr>\n",
       "      <th>6</th>\n",
       "      <td>MultipleLines</td>\n",
       "      <td>0.031508</td>\n",
       "    </tr>\n",
       "    <tr>\n",
       "      <th>2</th>\n",
       "      <td>Partner</td>\n",
       "      <td>0.030137</td>\n",
       "    </tr>\n",
       "  </tbody>\n",
       "</table>\n",
       "</div>"
      ],
      "text/plain": [
       "                                    Feature  Value of Importance\n",
       "16                           MonthlyCharges             2.775544\n",
       "4                                    tenure             2.707225\n",
       "5                              PhoneService             1.169016\n",
       "17                             TotalCharges             0.973208\n",
       "14                                 Contract             0.843202\n",
       "20           PaymentMethod_Electronic check             0.295287\n",
       "7                           InternetService             0.286163\n",
       "15                         PaperlessBilling             0.274564\n",
       "8                            OnlineSecurity             0.254838\n",
       "19    PaymentMethod_Credit card (automatic)             0.200596\n",
       "11                              TechSupport             0.177199\n",
       "18  PaymentMethod_Bank transfer (automatic)             0.150405\n",
       "3                                Dependents             0.147763\n",
       "9                              OnlineBackup             0.094532\n",
       "10                         DeviceProtection             0.086682\n",
       "1                             SeniorCitizen             0.083938\n",
       "21               PaymentMethod_Mailed check             0.052221\n",
       "12                              StreamingTV             0.045310\n",
       "13                          StreamingMovies             0.043115\n",
       "0                                    gender             0.043034\n",
       "6                             MultipleLines             0.031508\n",
       "2                                   Partner             0.030137"
      ]
     },
     "execution_count": 41,
     "metadata": {},
     "output_type": "execute_result"
    }
   ],
   "source": [
    "# Sort Value of Importance Value\n",
    "data_imp.sort_values(by='Value of Importance', ascending = False)"
   ]
  },
  {
   "cell_type": "code",
   "execution_count": 42,
   "metadata": {
    "ExecuteTime": {
     "end_time": "2021-04-29T14:59:43.930164Z",
     "start_time": "2021-04-29T14:59:43.499114Z"
    }
   },
   "outputs": [
    {
     "data": {
      "text/plain": [
       "<AxesSubplot:xlabel='Feature'>"
      ]
     },
     "execution_count": 42,
     "metadata": {},
     "output_type": "execute_result"
    },
    {
     "data": {
      "image/png": "[encoded data removed]",
      "text/plain": [
       "<Figure size 576x396 with 1 Axes>"
      ]
     },
     "metadata": {},
     "output_type": "display_data"
    }
   ],
   "source": [
    "# Visualization Absolute Value of Importance \n",
    "data_imp.sort_values(by='Value of Importance', ascending = False).set_index('Feature').plot.bar()"
   ]
  },
  {
   "cell_type": "code",
   "execution_count": 43,
   "metadata": {
    "ExecuteTime": {
     "end_time": "2021-04-29T14:59:46.091147Z",
     "start_time": "2021-04-29T14:59:46.044126Z"
    }
   },
   "outputs": [],
   "source": [
    "## Buang Feature yang nilainya dibawah 0.05\n",
    "list(data_imp[data_imp['Value of Importance'] < 0.05]['Feature'])\n",
    "\n",
    "list_drop = list(data_imp[data_imp['Value of Importance'] < 0.05]['Feature'])"
   ]
  },
  {
   "cell_type": "code",
   "execution_count": 44,
   "metadata": {
    "ExecuteTime": {
     "end_time": "2021-04-29T14:59:46.968661Z",
     "start_time": "2021-04-29T14:59:46.959706Z"
    }
   },
   "outputs": [],
   "source": [
    "list_drop.append('TotalCharges')"
   ]
  },
  {
   "cell_type": "code",
   "execution_count": 45,
   "metadata": {
    "ExecuteTime": {
     "end_time": "2021-04-29T14:59:47.890428Z",
     "start_time": "2021-04-29T14:59:47.876315Z"
    }
   },
   "outputs": [
    {
     "data": {
      "text/plain": [
       "['gender',\n",
       " 'Partner',\n",
       " 'MultipleLines',\n",
       " 'StreamingTV',\n",
       " 'StreamingMovies',\n",
       " 'TotalCharges']"
      ]
     },
     "execution_count": 45,
     "metadata": {},
     "output_type": "execute_result"
    }
   ],
   "source": [
    "list_drop"
   ]
  },
  {
   "cell_type": "code",
   "execution_count": 46,
   "metadata": {
    "ExecuteTime": {
     "end_time": "2021-04-29T14:59:50.526172Z",
     "start_time": "2021-04-29T14:59:50.506663Z"
    }
   },
   "outputs": [],
   "source": [
    "# Drop Feature in Xtrain and Xtest\n",
    "xtrain_selection = xtrain.drop(list_drop, axis=1)\n",
    "xtest_selection = xtest.drop(list_drop, axis=1)"
   ]
  },
  {
   "cell_type": "code",
   "execution_count": 47,
   "metadata": {
    "ExecuteTime": {
     "end_time": "2021-04-29T14:59:51.098015Z",
     "start_time": "2021-04-29T14:59:51.054773Z"
    }
   },
   "outputs": [
    {
     "data": {
      "text/html": [
       "<div>\n",
       "<style scoped>\n",
       "    .dataframe tbody tr th:only-of-type {\n",
       "        vertical-align: middle;\n",
       "    }\n",
       "\n",
       "    .dataframe tbody tr th {\n",
       "        vertical-align: top;\n",
       "    }\n",
       "\n",
       "    .dataframe thead th {\n",
       "        text-align: right;\n",
       "    }\n",
       "</style>\n",
       "<table border=\"1\" class=\"dataframe\">\n",
       "  <thead>\n",
       "    <tr style=\"text-align: right;\">\n",
       "      <th></th>\n",
       "      <th>SeniorCitizen</th>\n",
       "      <th>Dependents</th>\n",
       "      <th>tenure</th>\n",
       "      <th>PhoneService</th>\n",
       "      <th>InternetService</th>\n",
       "      <th>OnlineSecurity</th>\n",
       "      <th>OnlineBackup</th>\n",
       "      <th>DeviceProtection</th>\n",
       "      <th>TechSupport</th>\n",
       "      <th>Contract</th>\n",
       "      <th>PaperlessBilling</th>\n",
       "      <th>MonthlyCharges</th>\n",
       "      <th>PaymentMethod_Bank transfer (automatic)</th>\n",
       "      <th>PaymentMethod_Credit card (automatic)</th>\n",
       "      <th>PaymentMethod_Electronic check</th>\n",
       "      <th>PaymentMethod_Mailed check</th>\n",
       "    </tr>\n",
       "  </thead>\n",
       "  <tbody>\n",
       "    <tr>\n",
       "      <th>0</th>\n",
       "      <td>0</td>\n",
       "      <td>1</td>\n",
       "      <td>0.513889</td>\n",
       "      <td>0</td>\n",
       "      <td>0</td>\n",
       "      <td>2</td>\n",
       "      <td>0</td>\n",
       "      <td>2</td>\n",
       "      <td>2</td>\n",
       "      <td>1</td>\n",
       "      <td>1</td>\n",
       "      <td>0.217240</td>\n",
       "      <td>0</td>\n",
       "      <td>0</td>\n",
       "      <td>1</td>\n",
       "      <td>0</td>\n",
       "    </tr>\n",
       "    <tr>\n",
       "      <th>1</th>\n",
       "      <td>0</td>\n",
       "      <td>1</td>\n",
       "      <td>0.055556</td>\n",
       "      <td>0</td>\n",
       "      <td>0</td>\n",
       "      <td>2</td>\n",
       "      <td>0</td>\n",
       "      <td>0</td>\n",
       "      <td>0</td>\n",
       "      <td>0</td>\n",
       "      <td>0</td>\n",
       "      <td>0.200797</td>\n",
       "      <td>0</td>\n",
       "      <td>1</td>\n",
       "      <td>0</td>\n",
       "      <td>0</td>\n",
       "    </tr>\n",
       "    <tr>\n",
       "      <th>2</th>\n",
       "      <td>0</td>\n",
       "      <td>0</td>\n",
       "      <td>1.000000</td>\n",
       "      <td>1</td>\n",
       "      <td>1</td>\n",
       "      <td>2</td>\n",
       "      <td>2</td>\n",
       "      <td>2</td>\n",
       "      <td>2</td>\n",
       "      <td>2</td>\n",
       "      <td>1</td>\n",
       "      <td>0.967613</td>\n",
       "      <td>1</td>\n",
       "      <td>0</td>\n",
       "      <td>0</td>\n",
       "      <td>0</td>\n",
       "    </tr>\n",
       "    <tr>\n",
       "      <th>3</th>\n",
       "      <td>0</td>\n",
       "      <td>1</td>\n",
       "      <td>0.638889</td>\n",
       "      <td>1</td>\n",
       "      <td>2</td>\n",
       "      <td>1</td>\n",
       "      <td>1</td>\n",
       "      <td>1</td>\n",
       "      <td>1</td>\n",
       "      <td>2</td>\n",
       "      <td>0</td>\n",
       "      <td>0.015446</td>\n",
       "      <td>0</td>\n",
       "      <td>1</td>\n",
       "      <td>0</td>\n",
       "      <td>0</td>\n",
       "    </tr>\n",
       "    <tr>\n",
       "      <th>4</th>\n",
       "      <td>0</td>\n",
       "      <td>0</td>\n",
       "      <td>0.888889</td>\n",
       "      <td>1</td>\n",
       "      <td>2</td>\n",
       "      <td>1</td>\n",
       "      <td>1</td>\n",
       "      <td>1</td>\n",
       "      <td>1</td>\n",
       "      <td>2</td>\n",
       "      <td>0</td>\n",
       "      <td>0.071251</td>\n",
       "      <td>0</td>\n",
       "      <td>0</td>\n",
       "      <td>0</td>\n",
       "      <td>1</td>\n",
       "    </tr>\n",
       "    <tr>\n",
       "      <th>...</th>\n",
       "      <td>...</td>\n",
       "      <td>...</td>\n",
       "      <td>...</td>\n",
       "      <td>...</td>\n",
       "      <td>...</td>\n",
       "      <td>...</td>\n",
       "      <td>...</td>\n",
       "      <td>...</td>\n",
       "      <td>...</td>\n",
       "      <td>...</td>\n",
       "      <td>...</td>\n",
       "      <td>...</td>\n",
       "      <td>...</td>\n",
       "      <td>...</td>\n",
       "      <td>...</td>\n",
       "      <td>...</td>\n",
       "    </tr>\n",
       "    <tr>\n",
       "      <th>2971</th>\n",
       "      <td>0</td>\n",
       "      <td>0</td>\n",
       "      <td>0.166667</td>\n",
       "      <td>1</td>\n",
       "      <td>0</td>\n",
       "      <td>0</td>\n",
       "      <td>0</td>\n",
       "      <td>0</td>\n",
       "      <td>2</td>\n",
       "      <td>1</td>\n",
       "      <td>1</td>\n",
       "      <td>0.412556</td>\n",
       "      <td>0</td>\n",
       "      <td>0</td>\n",
       "      <td>1</td>\n",
       "      <td>0</td>\n",
       "    </tr>\n",
       "    <tr>\n",
       "      <th>2972</th>\n",
       "      <td>0</td>\n",
       "      <td>0</td>\n",
       "      <td>0.236111</td>\n",
       "      <td>1</td>\n",
       "      <td>1</td>\n",
       "      <td>2</td>\n",
       "      <td>2</td>\n",
       "      <td>0</td>\n",
       "      <td>0</td>\n",
       "      <td>0</td>\n",
       "      <td>1</td>\n",
       "      <td>0.757349</td>\n",
       "      <td>0</td>\n",
       "      <td>0</td>\n",
       "      <td>1</td>\n",
       "      <td>0</td>\n",
       "    </tr>\n",
       "    <tr>\n",
       "      <th>2973</th>\n",
       "      <td>0</td>\n",
       "      <td>0</td>\n",
       "      <td>0.125000</td>\n",
       "      <td>1</td>\n",
       "      <td>1</td>\n",
       "      <td>0</td>\n",
       "      <td>0</td>\n",
       "      <td>2</td>\n",
       "      <td>0</td>\n",
       "      <td>0</td>\n",
       "      <td>1</td>\n",
       "      <td>0.571500</td>\n",
       "      <td>1</td>\n",
       "      <td>0</td>\n",
       "      <td>0</td>\n",
       "      <td>0</td>\n",
       "    </tr>\n",
       "    <tr>\n",
       "      <th>2974</th>\n",
       "      <td>0</td>\n",
       "      <td>0</td>\n",
       "      <td>0.388889</td>\n",
       "      <td>1</td>\n",
       "      <td>1</td>\n",
       "      <td>0</td>\n",
       "      <td>2</td>\n",
       "      <td>2</td>\n",
       "      <td>0</td>\n",
       "      <td>0</td>\n",
       "      <td>1</td>\n",
       "      <td>0.869955</td>\n",
       "      <td>0</td>\n",
       "      <td>0</td>\n",
       "      <td>1</td>\n",
       "      <td>0</td>\n",
       "    </tr>\n",
       "    <tr>\n",
       "      <th>2975</th>\n",
       "      <td>0</td>\n",
       "      <td>1</td>\n",
       "      <td>0.194444</td>\n",
       "      <td>1</td>\n",
       "      <td>1</td>\n",
       "      <td>0</td>\n",
       "      <td>2</td>\n",
       "      <td>0</td>\n",
       "      <td>0</td>\n",
       "      <td>0</td>\n",
       "      <td>1</td>\n",
       "      <td>0.722471</td>\n",
       "      <td>1</td>\n",
       "      <td>0</td>\n",
       "      <td>0</td>\n",
       "      <td>0</td>\n",
       "    </tr>\n",
       "  </tbody>\n",
       "</table>\n",
       "<p>2976 rows × 16 columns</p>\n",
       "</div>"
      ],
      "text/plain": [
       "      SeniorCitizen  Dependents    tenure  PhoneService  InternetService  \\\n",
       "0                 0           1  0.513889             0                0   \n",
       "1                 0           1  0.055556             0                0   \n",
       "2                 0           0  1.000000             1                1   \n",
       "3                 0           1  0.638889             1                2   \n",
       "4                 0           0  0.888889             1                2   \n",
       "...             ...         ...       ...           ...              ...   \n",
       "2971              0           0  0.166667             1                0   \n",
       "2972              0           0  0.236111             1                1   \n",
       "2973              0           0  0.125000             1                1   \n",
       "2974              0           0  0.388889             1                1   \n",
       "2975              0           1  0.194444             1                1   \n",
       "\n",
       "      OnlineSecurity  OnlineBackup  DeviceProtection  TechSupport  Contract  \\\n",
       "0                  2             0                 2            2         1   \n",
       "1                  2             0                 0            0         0   \n",
       "2                  2             2                 2            2         2   \n",
       "3                  1             1                 1            1         2   \n",
       "4                  1             1                 1            1         2   \n",
       "...              ...           ...               ...          ...       ...   \n",
       "2971               0             0                 0            2         1   \n",
       "2972               2             2                 0            0         0   \n",
       "2973               0             0                 2            0         0   \n",
       "2974               0             2                 2            0         0   \n",
       "2975               0             2                 0            0         0   \n",
       "\n",
       "      PaperlessBilling  MonthlyCharges  \\\n",
       "0                    1        0.217240   \n",
       "1                    0        0.200797   \n",
       "2                    1        0.967613   \n",
       "3                    0        0.015446   \n",
       "4                    0        0.071251   \n",
       "...                ...             ...   \n",
       "2971                 1        0.412556   \n",
       "2972                 1        0.757349   \n",
       "2973                 1        0.571500   \n",
       "2974                 1        0.869955   \n",
       "2975                 1        0.722471   \n",
       "\n",
       "      PaymentMethod_Bank transfer (automatic)  \\\n",
       "0                                           0   \n",
       "1                                           0   \n",
       "2                                           1   \n",
       "3                                           0   \n",
       "4                                           0   \n",
       "...                                       ...   \n",
       "2971                                        0   \n",
       "2972                                        0   \n",
       "2973                                        1   \n",
       "2974                                        0   \n",
       "2975                                        1   \n",
       "\n",
       "      PaymentMethod_Credit card (automatic)  PaymentMethod_Electronic check  \\\n",
       "0                                         0                               1   \n",
       "1                                         1                               0   \n",
       "2                                         0                               0   \n",
       "3                                         1                               0   \n",
       "4                                         0                               0   \n",
       "...                                     ...                             ...   \n",
       "2971                                      0                               1   \n",
       "2972                                      0                               1   \n",
       "2973                                      0                               0   \n",
       "2974                                      0                               1   \n",
       "2975                                      0                               0   \n",
       "\n",
       "      PaymentMethod_Mailed check  \n",
       "0                              0  \n",
       "1                              0  \n",
       "2                              0  \n",
       "3                              0  \n",
       "4                              1  \n",
       "...                          ...  \n",
       "2971                           0  \n",
       "2972                           0  \n",
       "2973                           0  \n",
       "2974                           0  \n",
       "2975                           0  \n",
       "\n",
       "[2976 rows x 16 columns]"
      ]
     },
     "execution_count": 47,
     "metadata": {},
     "output_type": "execute_result"
    }
   ],
   "source": [
    "xtrain_selection"
   ]
  },
  {
   "cell_type": "markdown",
   "metadata": {},
   "source": [
    "### Testing New Feature in Best Model"
   ]
  },
  {
   "cell_type": "code",
   "execution_count": 48,
   "metadata": {
    "ExecuteTime": {
     "end_time": "2021-04-29T14:59:54.549096Z",
     "start_time": "2021-04-29T14:59:54.539047Z"
    }
   },
   "outputs": [],
   "source": [
    "lr_selection = LogisticRegression(penalty='l2', dual=False, tol=0.0001, C=1.0, random_state = 41)"
   ]
  },
  {
   "cell_type": "code",
   "execution_count": 49,
   "metadata": {
    "ExecuteTime": {
     "end_time": "2021-04-29T14:59:55.017830Z",
     "start_time": "2021-04-29T14:59:55.005857Z"
    }
   },
   "outputs": [
    {
     "data": {
      "text/plain": [
       "(2976, 16)"
      ]
     },
     "execution_count": 49,
     "metadata": {},
     "output_type": "execute_result"
    }
   ],
   "source": [
    "xtrain_selection.shape"
   ]
  },
  {
   "cell_type": "code",
   "execution_count": 50,
   "metadata": {
    "ExecuteTime": {
     "end_time": "2021-04-29T14:59:55.577758Z",
     "start_time": "2021-04-29T14:59:55.557905Z"
    }
   },
   "outputs": [
    {
     "data": {
      "text/plain": [
       "(2976,)"
      ]
     },
     "execution_count": 50,
     "metadata": {},
     "output_type": "execute_result"
    }
   ],
   "source": [
    "ytrain.shape"
   ]
  },
  {
   "cell_type": "code",
   "execution_count": 51,
   "metadata": {
    "ExecuteTime": {
     "end_time": "2021-04-29T14:59:57.653497Z",
     "start_time": "2021-04-29T14:59:57.510175Z"
    }
   },
   "outputs": [
    {
     "data": {
      "text/plain": [
       "LogisticRegression(random_state=41)"
      ]
     },
     "execution_count": 51,
     "metadata": {},
     "output_type": "execute_result"
    }
   ],
   "source": [
    "# Fit Data\n",
    "lr_selection.fit(xtrain_selection, ytrain)"
   ]
  },
  {
   "cell_type": "code",
   "execution_count": 52,
   "metadata": {
    "ExecuteTime": {
     "end_time": "2021-04-29T14:59:59.215348Z",
     "start_time": "2021-04-29T14:59:59.191363Z"
    }
   },
   "outputs": [],
   "source": [
    "ypred_lrselection = lr_selection.predict(xtest_selection)"
   ]
  },
  {
   "cell_type": "code",
   "execution_count": 53,
   "metadata": {
    "ExecuteTime": {
     "end_time": "2021-04-29T15:00:16.157026Z",
     "start_time": "2021-04-29T15:00:15.827950Z"
    }
   },
   "outputs": [
    {
     "data": {
      "text/plain": [
       "Text(0.5, 1.0, 'Confussion Matrix for Feature Selection')"
      ]
     },
     "execution_count": 53,
     "metadata": {},
     "output_type": "execute_result"
    },
    {
     "data": {
      "image/png": "[encoded data removed]",
      "text/plain": [
       "<Figure size 576x396 with 2 Axes>"
      ]
     },
     "metadata": {},
     "output_type": "display_data"
    }
   ],
   "source": [
    "plot_confusion_matrix(lr_selection, xtest_selection, ytest, cmap = plt.cm.Blues)\n",
    "plt.grid(False)\n",
    "plt.title('Confussion Matrix for Feature Selection')"
   ]
  },
  {
   "cell_type": "code",
   "execution_count": 54,
   "metadata": {
    "ExecuteTime": {
     "end_time": "2021-04-29T15:00:20.656931Z",
     "start_time": "2021-04-29T15:00:20.222294Z"
    }
   },
   "outputs": [],
   "source": [
    "lr_selection_train_score = round(lr_selection.score(xtrain_selection, ytrain)*100, 2)\n",
    "lr_selection_test_score = round(lr_selection.score(xtest_selection, ytest)*100, 2)\n",
    "lr_selection_crossval = cross_val_score(lr_selection, xtest_selection, ytest, cv = 10).mean()"
   ]
  },
  {
   "cell_type": "code",
   "execution_count": 55,
   "metadata": {
    "ExecuteTime": {
     "end_time": "2021-04-29T15:00:31.661878Z",
     "start_time": "2021-04-29T15:00:31.635907Z"
    },
    "scrolled": true
   },
   "outputs": [
    {
     "name": "stdout",
     "output_type": "stream",
     "text": [
      "Classification Report Data 1\n",
      "              precision    recall  f1-score   support\n",
      "\n",
      "           0       0.91      0.70      0.79      1028\n",
      "           1       0.51      0.82      0.63       381\n",
      "\n",
      "    accuracy                           0.73      1409\n",
      "   macro avg       0.71      0.76      0.71      1409\n",
      "weighted avg       0.80      0.73      0.75      1409\n",
      "\n",
      "Train Score : 77.05 %\n",
      "Test Score : 73.46 %\n",
      "Feature Selection Cross Validation Score : 78.35 %\n",
      "\n",
      "\n"
     ]
    }
   ],
   "source": [
    "print('Classification Report Data 1')\n",
    "print(classification_report(ytest, ypred_lrselection))\n",
    "print(f'Train Score : {lr_selection_train_score} %')\n",
    "print(f'Test Score : {lr_selection_test_score} %')\n",
    "print(f'Feature Selection Cross Validation Score : {round(lr_selection_crossval*100, 2)} %')\n",
    "print('\\n')"
   ]
  },
  {
   "cell_type": "code",
   "execution_count": null,
   "metadata": {},
   "outputs": [],
   "source": []
  }
 ],
 "metadata": {
  "hide_input": false,
  "kernelspec": {
   "display_name": "Python 3",
   "language": "python",
   "name": "python3"
  },
  "language_info": {
   "codemirror_mode": {
    "name": "ipython",
    "version": 3
   },
   "file_extension": ".py",
   "mimetype": "text/x-python",
   "name": "python",
   "nbconvert_exporter": "python",
   "pygments_lexer": "ipython3",
   "version": "3.8.5"
  },
  "toc": {
   "base_numbering": 1,
   "nav_menu": {},
   "number_sections": false,
   "sideBar": true,
   "skip_h1_title": false,
   "title_cell": "Table of Contents",
   "title_sidebar": "Contents",
   "toc_cell": false,
   "toc_position": {},
   "toc_section_display": true,
   "toc_window_display": false
  }
 },
 "nbformat": 4,
 "nbformat_minor": 4
}
